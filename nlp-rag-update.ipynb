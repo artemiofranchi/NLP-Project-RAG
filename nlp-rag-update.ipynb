{
 "cells": [
  {
   "cell_type": "markdown",
   "metadata": {},
   "source": [
    "# 1. Начало"
   ]
  },
  {
   "cell_type": "code",
   "execution_count": 3,
   "metadata": {
    "_cell_guid": "b1076dfc-b9ad-4769-8c92-a6c4dae69d19",
    "_uuid": "8f2839f25d086af736a60e9eeb907d3b93b6e0e5",
    "execution": {
     "iopub.execute_input": "2024-12-25T22:57:40.716308Z",
     "iopub.status.busy": "2024-12-25T22:57:40.715940Z",
     "iopub.status.idle": "2024-12-25T22:58:34.374895Z",
     "shell.execute_reply": "2024-12-25T22:58:34.373026Z",
     "shell.execute_reply.started": "2024-12-25T22:57:40.716281Z"
    }
   },
   "outputs": [
    {
     "name": "stdout",
     "output_type": "stream",
     "text": [
      "Collecting langchain_community\n",
      "  Downloading langchain_community-0.3.13-py3-none-any.whl.metadata (2.9 kB)\n",
      "Requirement already satisfied: tiktoken in /usr/local/lib/python3.10/dist-packages (0.8.0)\n",
      "Collecting langchain-openai\n",
      "  Downloading langchain_openai-0.2.14-py3-none-any.whl.metadata (2.7 kB)\n",
      "Collecting langchainhub\n",
      "  Downloading langchainhub-0.1.21-py3-none-any.whl.metadata (659 bytes)\n",
      "Collecting chromadb\n",
      "  Downloading chromadb-0.5.23-py3-none-any.whl.metadata (6.8 kB)\n",
      "Collecting langchain\n",
      "  Downloading langchain-0.3.13-py3-none-any.whl.metadata (7.1 kB)\n",
      "Requirement already satisfied: PyYAML>=5.3 in /usr/local/lib/python3.10/dist-packages (from langchain_community) (6.0.2)\n",
      "Requirement already satisfied: SQLAlchemy<3,>=1.4 in /usr/local/lib/python3.10/dist-packages (from langchain_community) (2.0.35)\n",
      "Requirement already satisfied: aiohttp<4.0.0,>=3.8.3 in /usr/local/lib/python3.10/dist-packages (from langchain_community) (3.10.5)\n",
      "Requirement already satisfied: dataclasses-json<0.7,>=0.5.7 in /usr/local/lib/python3.10/dist-packages (from langchain_community) (0.6.7)\n",
      "Collecting httpx-sse<0.5.0,>=0.4.0 (from langchain_community)\n",
      "  Downloading httpx_sse-0.4.0-py3-none-any.whl.metadata (9.0 kB)\n",
      "Collecting langchain-core<0.4.0,>=0.3.27 (from langchain_community)\n",
      "  Downloading langchain_core-0.3.28-py3-none-any.whl.metadata (6.3 kB)\n",
      "Collecting langsmith<0.3,>=0.1.125 (from langchain_community)\n",
      "  Downloading langsmith-0.2.6-py3-none-any.whl.metadata (14 kB)\n",
      "Requirement already satisfied: numpy<2,>=1.22.4 in /usr/local/lib/python3.10/dist-packages (from langchain_community) (1.26.4)\n",
      "Collecting pydantic-settings<3.0.0,>=2.4.0 (from langchain_community)\n",
      "  Downloading pydantic_settings-2.7.0-py3-none-any.whl.metadata (3.5 kB)\n",
      "Requirement already satisfied: requests<3,>=2 in /usr/local/lib/python3.10/dist-packages (from langchain_community) (2.32.3)\n",
      "Requirement already satisfied: tenacity!=8.4.0,<10,>=8.1.0 in /usr/local/lib/python3.10/dist-packages (from langchain_community) (9.0.0)\n",
      "Requirement already satisfied: regex>=2022.1.18 in /usr/local/lib/python3.10/dist-packages (from tiktoken) (2024.9.11)\n",
      "Collecting openai<2.0.0,>=1.58.1 (from langchain-openai)\n",
      "  Downloading openai-1.58.1-py3-none-any.whl.metadata (27 kB)\n",
      "Requirement already satisfied: packaging<25,>=23.2 in /usr/local/lib/python3.10/dist-packages (from langchainhub) (24.1)\n",
      "Collecting types-requests<3.0.0.0,>=2.31.0.2 (from langchainhub)\n",
      "  Downloading types_requests-2.32.0.20241016-py3-none-any.whl.metadata (1.9 kB)\n",
      "Requirement already satisfied: build>=1.0.3 in /usr/local/lib/python3.10/dist-packages (from chromadb) (1.2.2)\n",
      "Requirement already satisfied: pydantic>=1.9 in /usr/local/lib/python3.10/dist-packages (from chromadb) (2.9.2)\n",
      "Collecting chroma-hnswlib==0.7.6 (from chromadb)\n",
      "  Downloading chroma_hnswlib-0.7.6-cp310-cp310-manylinux_2_17_x86_64.manylinux2014_x86_64.whl.metadata (252 bytes)\n",
      "Collecting fastapi>=0.95.2 (from chromadb)\n",
      "  Downloading fastapi-0.115.6-py3-none-any.whl.metadata (27 kB)\n",
      "Collecting uvicorn>=0.18.3 (from uvicorn[standard]>=0.18.3->chromadb)\n",
      "  Downloading uvicorn-0.34.0-py3-none-any.whl.metadata (6.5 kB)\n",
      "Collecting posthog>=2.4.0 (from chromadb)\n",
      "  Downloading posthog-3.7.4-py2.py3-none-any.whl.metadata (2.0 kB)\n",
      "Requirement already satisfied: typing_extensions>=4.5.0 in /usr/local/lib/python3.10/dist-packages (from chromadb) (4.12.2)\n",
      "Collecting onnxruntime>=1.14.1 (from chromadb)\n",
      "  Downloading onnxruntime-1.20.1-cp310-cp310-manylinux_2_27_x86_64.manylinux_2_28_x86_64.whl.metadata (4.5 kB)\n",
      "Collecting opentelemetry-api>=1.2.0 (from chromadb)\n",
      "  Downloading opentelemetry_api-1.29.0-py3-none-any.whl.metadata (1.4 kB)\n",
      "Collecting opentelemetry-exporter-otlp-proto-grpc>=1.2.0 (from chromadb)\n",
      "  Downloading opentelemetry_exporter_otlp_proto_grpc-1.29.0-py3-none-any.whl.metadata (2.2 kB)\n",
      "Collecting opentelemetry-instrumentation-fastapi>=0.41b0 (from chromadb)\n",
      "  Downloading opentelemetry_instrumentation_fastapi-0.50b0-py3-none-any.whl.metadata (2.1 kB)\n",
      "Collecting opentelemetry-sdk>=1.2.0 (from chromadb)\n",
      "  Downloading opentelemetry_sdk-1.29.0-py3-none-any.whl.metadata (1.5 kB)\n",
      "Requirement already satisfied: tokenizers<=0.20.3,>=0.13.2 in /usr/local/lib/python3.10/dist-packages (from chromadb) (0.19.1)\n",
      "Collecting pypika>=0.48.9 (from chromadb)\n",
      "  Downloading PyPika-0.48.9.tar.gz (67 kB)\n",
      "\u001b[2K     \u001b[90m━━━━━━━━━━━━━━━━━━━━━━━━━━━━━━━━━━━━━━━━\u001b[0m \u001b[32m67.3/67.3 kB\u001b[0m \u001b[31m2.7 MB/s\u001b[0m eta \u001b[36m0:00:00\u001b[0m\n",
      "\u001b[?25h  Installing build dependencies ... \u001b[?25l\u001b[?25hdone\n",
      "  Getting requirements to build wheel ... \u001b[?25l\u001b[?25hdone\n",
      "  Preparing metadata (pyproject.toml) ... \u001b[?25l\u001b[?25hdone\n",
      "Requirement already satisfied: tqdm>=4.65.0 in /usr/local/lib/python3.10/dist-packages (from chromadb) (4.66.5)\n",
      "Requirement already satisfied: overrides>=7.3.1 in /usr/local/lib/python3.10/dist-packages (from chromadb) (7.7.0)\n",
      "Requirement already satisfied: importlib-resources in /usr/local/lib/python3.10/dist-packages (from chromadb) (6.4.5)\n",
      "Requirement already satisfied: grpcio>=1.58.0 in /usr/local/lib/python3.10/dist-packages (from chromadb) (1.64.1)\n",
      "Collecting bcrypt>=4.0.1 (from chromadb)\n",
      "  Downloading bcrypt-4.2.1-cp39-abi3-manylinux_2_28_x86_64.whl.metadata (9.8 kB)\n",
      "Requirement already satisfied: typer>=0.9.0 in /usr/local/lib/python3.10/dist-packages (from chromadb) (0.12.5)\n",
      "Collecting kubernetes>=28.1.0 (from chromadb)\n",
      "  Downloading kubernetes-31.0.0-py2.py3-none-any.whl.metadata (1.5 kB)\n",
      "Collecting mmh3>=4.0.1 (from chromadb)\n",
      "  Downloading mmh3-5.0.1-cp310-cp310-manylinux_2_5_x86_64.manylinux1_x86_64.manylinux_2_17_x86_64.manylinux2014_x86_64.whl.metadata (14 kB)\n",
      "Collecting orjson>=3.9.12 (from chromadb)\n",
      "  Downloading orjson-3.10.12-cp310-cp310-manylinux_2_17_x86_64.manylinux2014_x86_64.whl.metadata (41 kB)\n",
      "\u001b[2K     \u001b[90m━━━━━━━━━━━━━━━━━━━━━━━━━━━━━━━━━━━━━━━━\u001b[0m \u001b[32m41.8/41.8 kB\u001b[0m \u001b[31m1.9 MB/s\u001b[0m eta \u001b[36m0:00:00\u001b[0m\n",
      "\u001b[?25hCollecting httpx>=0.27.0 (from chromadb)\n",
      "  Downloading httpx-0.28.1-py3-none-any.whl.metadata (7.1 kB)\n",
      "Requirement already satisfied: rich>=10.11.0 in /usr/local/lib/python3.10/dist-packages (from chromadb) (13.8.1)\n",
      "Requirement already satisfied: async-timeout<5.0.0,>=4.0.0 in /usr/local/lib/python3.10/dist-packages (from langchain) (4.0.3)\n",
      "Collecting langchain-text-splitters<0.4.0,>=0.3.3 (from langchain)\n",
      "  Downloading langchain_text_splitters-0.3.4-py3-none-any.whl.metadata (2.3 kB)\n",
      "Requirement already satisfied: aiohappyeyeballs>=2.3.0 in /usr/local/lib/python3.10/dist-packages (from aiohttp<4.0.0,>=3.8.3->langchain_community) (2.4.0)\n",
      "Requirement already satisfied: aiosignal>=1.1.2 in /usr/local/lib/python3.10/dist-packages (from aiohttp<4.0.0,>=3.8.3->langchain_community) (1.3.1)\n",
      "Requirement already satisfied: attrs>=17.3.0 in /usr/local/lib/python3.10/dist-packages (from aiohttp<4.0.0,>=3.8.3->langchain_community) (24.2.0)\n",
      "Requirement already satisfied: frozenlist>=1.1.1 in /usr/local/lib/python3.10/dist-packages (from aiohttp<4.0.0,>=3.8.3->langchain_community) (1.4.1)\n",
      "Requirement already satisfied: multidict<7.0,>=4.5 in /usr/local/lib/python3.10/dist-packages (from aiohttp<4.0.0,>=3.8.3->langchain_community) (6.1.0)\n",
      "Requirement already satisfied: yarl<2.0,>=1.0 in /usr/local/lib/python3.10/dist-packages (from aiohttp<4.0.0,>=3.8.3->langchain_community) (1.11.1)\n",
      "Requirement already satisfied: pyproject_hooks in /usr/local/lib/python3.10/dist-packages (from build>=1.0.3->chromadb) (1.1.0)\n",
      "Requirement already satisfied: tomli>=1.1.0 in /usr/local/lib/python3.10/dist-packages (from build>=1.0.3->chromadb) (2.0.1)\n",
      "Requirement already satisfied: marshmallow<4.0.0,>=3.18.0 in /usr/local/lib/python3.10/dist-packages (from dataclasses-json<0.7,>=0.5.7->langchain_community) (3.23.1)\n",
      "Requirement already satisfied: typing-inspect<1,>=0.4.0 in /usr/local/lib/python3.10/dist-packages (from dataclasses-json<0.7,>=0.5.7->langchain_community) (0.9.0)\n",
      "Collecting starlette<0.42.0,>=0.40.0 (from fastapi>=0.95.2->chromadb)\n",
      "  Downloading starlette-0.41.3-py3-none-any.whl.metadata (6.0 kB)\n",
      "Requirement already satisfied: anyio in /usr/local/lib/python3.10/dist-packages (from httpx>=0.27.0->chromadb) (3.7.1)\n",
      "Requirement already satisfied: certifi in /usr/local/lib/python3.10/dist-packages (from httpx>=0.27.0->chromadb) (2024.8.30)\n",
      "Collecting httpcore==1.* (from httpx>=0.27.0->chromadb)\n",
      "  Downloading httpcore-1.0.7-py3-none-any.whl.metadata (21 kB)\n",
      "Requirement already satisfied: idna in /usr/local/lib/python3.10/dist-packages (from httpx>=0.27.0->chromadb) (3.10)\n",
      "Collecting h11<0.15,>=0.13 (from httpcore==1.*->httpx>=0.27.0->chromadb)\n",
      "  Downloading h11-0.14.0-py3-none-any.whl.metadata (8.2 kB)\n",
      "Requirement already satisfied: six>=1.9.0 in /usr/local/lib/python3.10/dist-packages (from kubernetes>=28.1.0->chromadb) (1.16.0)\n",
      "Requirement already satisfied: python-dateutil>=2.5.3 in /usr/local/lib/python3.10/dist-packages (from kubernetes>=28.1.0->chromadb) (2.8.2)\n",
      "Requirement already satisfied: google-auth>=1.0.1 in /usr/local/lib/python3.10/dist-packages (from kubernetes>=28.1.0->chromadb) (2.27.0)\n",
      "Requirement already satisfied: websocket-client!=0.40.0,!=0.41.*,!=0.42.*,>=0.32.0 in /usr/local/lib/python3.10/dist-packages (from kubernetes>=28.1.0->chromadb) (1.8.0)\n",
      "Requirement already satisfied: requests-oauthlib in /usr/local/lib/python3.10/dist-packages (from kubernetes>=28.1.0->chromadb) (1.3.1)\n",
      "Requirement already satisfied: oauthlib>=3.2.2 in /usr/local/lib/python3.10/dist-packages (from kubernetes>=28.1.0->chromadb) (3.2.2)\n",
      "Requirement already satisfied: urllib3>=1.24.2 in /usr/local/lib/python3.10/dist-packages (from kubernetes>=28.1.0->chromadb) (2.2.3)\n",
      "Collecting durationpy>=0.7 (from kubernetes>=28.1.0->chromadb)\n",
      "  Downloading durationpy-0.9-py3-none-any.whl.metadata (338 bytes)\n",
      "Collecting jsonpatch<2.0,>=1.33 (from langchain-core<0.4.0,>=0.3.27->langchain_community)\n",
      "  Downloading jsonpatch-1.33-py2.py3-none-any.whl.metadata (3.0 kB)\n",
      "Collecting requests-toolbelt<2.0.0,>=1.0.0 (from langsmith<0.3,>=0.1.125->langchain_community)\n",
      "  Downloading requests_toolbelt-1.0.0-py2.py3-none-any.whl.metadata (14 kB)\n",
      "Collecting coloredlogs (from onnxruntime>=1.14.1->chromadb)\n",
      "  Downloading coloredlogs-15.0.1-py2.py3-none-any.whl.metadata (12 kB)\n",
      "Requirement already satisfied: flatbuffers in /usr/local/lib/python3.10/dist-packages (from onnxruntime>=1.14.1->chromadb) (24.3.25)\n",
      "Requirement already satisfied: protobuf in /usr/local/lib/python3.10/dist-packages (from onnxruntime>=1.14.1->chromadb) (3.20.3)\n",
      "Requirement already satisfied: sympy in /usr/local/lib/python3.10/dist-packages (from onnxruntime>=1.14.1->chromadb) (1.13.3)\n",
      "Requirement already satisfied: distro<2,>=1.7.0 in /usr/lib/python3/dist-packages (from openai<2.0.0,>=1.58.1->langchain-openai) (1.7.0)\n",
      "Collecting jiter<1,>=0.4.0 (from openai<2.0.0,>=1.58.1->langchain-openai)\n",
      "  Downloading jiter-0.8.2-cp310-cp310-manylinux_2_17_x86_64.manylinux2014_x86_64.whl.metadata (5.2 kB)\n",
      "Requirement already satisfied: sniffio in /usr/local/lib/python3.10/dist-packages (from openai<2.0.0,>=1.58.1->langchain-openai) (1.3.1)\n",
      "Requirement already satisfied: deprecated>=1.2.6 in /usr/local/lib/python3.10/dist-packages (from opentelemetry-api>=1.2.0->chromadb) (1.2.15)\n",
      "Requirement already satisfied: importlib-metadata<=8.5.0,>=6.0 in /usr/local/lib/python3.10/dist-packages (from opentelemetry-api>=1.2.0->chromadb) (8.5.0)\n",
      "Requirement already satisfied: googleapis-common-protos~=1.52 in /usr/local/lib/python3.10/dist-packages (from opentelemetry-exporter-otlp-proto-grpc>=1.2.0->chromadb) (1.65.0)\n",
      "Collecting opentelemetry-exporter-otlp-proto-common==1.29.0 (from opentelemetry-exporter-otlp-proto-grpc>=1.2.0->chromadb)\n",
      "  Downloading opentelemetry_exporter_otlp_proto_common-1.29.0-py3-none-any.whl.metadata (1.8 kB)\n",
      "Collecting opentelemetry-proto==1.29.0 (from opentelemetry-exporter-otlp-proto-grpc>=1.2.0->chromadb)\n",
      "  Downloading opentelemetry_proto-1.29.0-py3-none-any.whl.metadata (2.3 kB)\n",
      "Collecting protobuf (from onnxruntime>=1.14.1->chromadb)\n",
      "  Downloading protobuf-5.29.2-cp38-abi3-manylinux2014_x86_64.whl.metadata (592 bytes)\n",
      "Collecting opentelemetry-instrumentation-asgi==0.50b0 (from opentelemetry-instrumentation-fastapi>=0.41b0->chromadb)\n",
      "  Downloading opentelemetry_instrumentation_asgi-0.50b0-py3-none-any.whl.metadata (1.9 kB)\n",
      "Collecting opentelemetry-instrumentation==0.50b0 (from opentelemetry-instrumentation-fastapi>=0.41b0->chromadb)\n",
      "  Downloading opentelemetry_instrumentation-0.50b0-py3-none-any.whl.metadata (6.1 kB)\n",
      "Collecting opentelemetry-semantic-conventions==0.50b0 (from opentelemetry-instrumentation-fastapi>=0.41b0->chromadb)\n",
      "  Downloading opentelemetry_semantic_conventions-0.50b0-py3-none-any.whl.metadata (2.3 kB)\n",
      "Collecting opentelemetry-util-http==0.50b0 (from opentelemetry-instrumentation-fastapi>=0.41b0->chromadb)\n",
      "  Downloading opentelemetry_util_http-0.50b0-py3-none-any.whl.metadata (2.5 kB)\n",
      "Requirement already satisfied: wrapt<2.0.0,>=1.0.0 in /usr/local/lib/python3.10/dist-packages (from opentelemetry-instrumentation==0.50b0->opentelemetry-instrumentation-fastapi>=0.41b0->chromadb) (1.16.0)\n",
      "Collecting asgiref~=3.0 (from opentelemetry-instrumentation-asgi==0.50b0->opentelemetry-instrumentation-fastapi>=0.41b0->chromadb)\n",
      "  Downloading asgiref-3.8.1-py3-none-any.whl.metadata (9.3 kB)\n",
      "Collecting monotonic>=1.5 (from posthog>=2.4.0->chromadb)\n",
      "  Downloading monotonic-1.6-py2.py3-none-any.whl.metadata (1.5 kB)\n",
      "Collecting backoff>=1.10.0 (from posthog>=2.4.0->chromadb)\n",
      "  Downloading backoff-2.2.1-py3-none-any.whl.metadata (14 kB)\n",
      "Requirement already satisfied: annotated-types>=0.6.0 in /usr/local/lib/python3.10/dist-packages (from pydantic>=1.9->chromadb) (0.7.0)\n",
      "Requirement already satisfied: pydantic-core==2.23.4 in /usr/local/lib/python3.10/dist-packages (from pydantic>=1.9->chromadb) (2.23.4)\n",
      "Collecting python-dotenv>=0.21.0 (from pydantic-settings<3.0.0,>=2.4.0->langchain_community)\n",
      "  Downloading python_dotenv-1.0.1-py3-none-any.whl.metadata (23 kB)\n",
      "Requirement already satisfied: charset-normalizer<4,>=2 in /usr/local/lib/python3.10/dist-packages (from requests<3,>=2->langchain_community) (3.3.2)\n",
      "Requirement already satisfied: markdown-it-py>=2.2.0 in /usr/local/lib/python3.10/dist-packages (from rich>=10.11.0->chromadb) (3.0.0)\n",
      "Requirement already satisfied: pygments<3.0.0,>=2.13.0 in /usr/local/lib/python3.10/dist-packages (from rich>=10.11.0->chromadb) (2.18.0)\n",
      "Requirement already satisfied: greenlet!=0.4.17 in /usr/local/lib/python3.10/dist-packages (from SQLAlchemy<3,>=1.4->langchain_community) (3.1.0)\n",
      "Requirement already satisfied: huggingface-hub<1.0,>=0.16.4 in /usr/local/lib/python3.10/dist-packages (from tokenizers<=0.20.3,>=0.13.2->chromadb) (0.24.7)\n",
      "Requirement already satisfied: click>=8.0.0 in /usr/local/lib/python3.10/dist-packages (from typer>=0.9.0->chromadb) (8.1.7)\n",
      "Requirement already satisfied: shellingham>=1.3.0 in /usr/local/lib/python3.10/dist-packages (from typer>=0.9.0->chromadb) (1.5.4)\n",
      "Collecting httptools>=0.6.3 (from uvicorn[standard]>=0.18.3->chromadb)\n",
      "  Downloading httptools-0.6.4-cp310-cp310-manylinux_2_5_x86_64.manylinux1_x86_64.manylinux_2_17_x86_64.manylinux2014_x86_64.whl.metadata (3.6 kB)\n",
      "Collecting uvloop!=0.15.0,!=0.15.1,>=0.14.0 (from uvicorn[standard]>=0.18.3->chromadb)\n",
      "  Downloading uvloop-0.21.0-cp310-cp310-manylinux_2_17_x86_64.manylinux2014_x86_64.whl.metadata (4.9 kB)\n",
      "Collecting watchfiles>=0.13 (from uvicorn[standard]>=0.18.3->chromadb)\n",
      "  Downloading watchfiles-1.0.3-cp310-cp310-manylinux_2_17_x86_64.manylinux2014_x86_64.whl.metadata (4.9 kB)\n",
      "Requirement already satisfied: websockets>=10.4 in /usr/local/lib/python3.10/dist-packages (from uvicorn[standard]>=0.18.3->chromadb) (14.1)\n",
      "Requirement already satisfied: exceptiongroup in /usr/local/lib/python3.10/dist-packages (from anyio->httpx>=0.27.0->chromadb) (1.2.2)\n",
      "Requirement already satisfied: cachetools<6.0,>=2.0.0 in /usr/local/lib/python3.10/dist-packages (from google-auth>=1.0.1->kubernetes>=28.1.0->chromadb) (5.5.0)\n",
      "Requirement already satisfied: pyasn1-modules>=0.2.1 in /usr/local/lib/python3.10/dist-packages (from google-auth>=1.0.1->kubernetes>=28.1.0->chromadb) (0.4.1)\n",
      "Requirement already satisfied: rsa<5,>=3.1.4 in /usr/local/lib/python3.10/dist-packages (from google-auth>=1.0.1->kubernetes>=28.1.0->chromadb) (4.9)\n",
      "Requirement already satisfied: filelock in /usr/local/lib/python3.10/dist-packages (from huggingface-hub<1.0,>=0.16.4->tokenizers<=0.20.3,>=0.13.2->chromadb) (3.16.1)\n",
      "Requirement already satisfied: fsspec>=2023.5.0 in /usr/local/lib/python3.10/dist-packages (from huggingface-hub<1.0,>=0.16.4->tokenizers<=0.20.3,>=0.13.2->chromadb) (2024.6.1)\n",
      "Requirement already satisfied: zipp>=3.20 in /usr/local/lib/python3.10/dist-packages (from importlib-metadata<=8.5.0,>=6.0->opentelemetry-api>=1.2.0->chromadb) (3.20.2)\n",
      "Requirement already satisfied: jsonpointer>=1.9 in /usr/local/lib/python3.10/dist-packages (from jsonpatch<2.0,>=1.33->langchain-core<0.4.0,>=0.3.27->langchain_community) (3.0.0)\n",
      "Requirement already satisfied: mdurl~=0.1 in /usr/local/lib/python3.10/dist-packages (from markdown-it-py>=2.2.0->rich>=10.11.0->chromadb) (0.1.2)\n",
      "Requirement already satisfied: mypy-extensions>=0.3.0 in /usr/local/lib/python3.10/dist-packages (from typing-inspect<1,>=0.4.0->dataclasses-json<0.7,>=0.5.7->langchain_community) (1.0.0)\n",
      "Collecting humanfriendly>=9.1 (from coloredlogs->onnxruntime>=1.14.1->chromadb)\n",
      "  Downloading humanfriendly-10.0-py2.py3-none-any.whl.metadata (9.2 kB)\n",
      "Requirement already satisfied: mpmath<1.4,>=1.1.0 in /usr/local/lib/python3.10/dist-packages (from sympy->onnxruntime>=1.14.1->chromadb) (1.3.0)\n",
      "Requirement already satisfied: pyasn1<0.7.0,>=0.4.6 in /usr/local/lib/python3.10/dist-packages (from pyasn1-modules>=0.2.1->google-auth>=1.0.1->kubernetes>=28.1.0->chromadb) (0.6.1)\n",
      "Downloading langchain_community-0.3.13-py3-none-any.whl (2.5 MB)\n",
      "\u001b[2K   \u001b[90m━━━━━━━━━━━━━━━━━━━━━━━━━━━━━━━━━━━━━━━━\u001b[0m \u001b[32m2.5/2.5 MB\u001b[0m \u001b[31m37.8 MB/s\u001b[0m eta \u001b[36m0:00:00\u001b[0ma \u001b[36m0:00:01\u001b[0m\n",
      "\u001b[?25hDownloading langchain_openai-0.2.14-py3-none-any.whl (50 kB)\n",
      "\u001b[2K   \u001b[90m━━━━━━━━━━━━━━━━━━━━━━━━━━━━━━━━━━━━━━━━\u001b[0m \u001b[32m50.9/50.9 kB\u001b[0m \u001b[31m2.5 MB/s\u001b[0m eta \u001b[36m0:00:00\u001b[0m\n",
      "\u001b[?25hDownloading langchainhub-0.1.21-py3-none-any.whl (5.2 kB)\n",
      "Downloading chromadb-0.5.23-py3-none-any.whl (628 kB)\n",
      "\u001b[2K   \u001b[90m━━━━━━━━━━━━━━━━━━━━━━━━━━━━━━━━━━━━━━━━\u001b[0m \u001b[32m628.3/628.3 kB\u001b[0m \u001b[31m25.4 MB/s\u001b[0m eta \u001b[36m0:00:00\u001b[0m\n",
      "\u001b[?25hDownloading chroma_hnswlib-0.7.6-cp310-cp310-manylinux_2_17_x86_64.manylinux2014_x86_64.whl (2.4 MB)\n",
      "\u001b[2K   \u001b[90m━━━━━━━━━━━━━━━━━━━━━━━━━━━━━━━━━━━━━━━━\u001b[0m \u001b[32m2.4/2.4 MB\u001b[0m \u001b[31m59.7 MB/s\u001b[0m eta \u001b[36m0:00:00\u001b[0m:00:01\u001b[0m\n",
      "\u001b[?25hDownloading langchain-0.3.13-py3-none-any.whl (1.0 MB)\n",
      "\u001b[2K   \u001b[90m━━━━━━━━━━━━━━━━━━━━━━━━━━━━━━━━━━━━━━━━\u001b[0m \u001b[32m1.0/1.0 MB\u001b[0m \u001b[31m34.6 MB/s\u001b[0m eta \u001b[36m0:00:00\u001b[0m\n",
      "\u001b[?25hDownloading bcrypt-4.2.1-cp39-abi3-manylinux_2_28_x86_64.whl (278 kB)\n",
      "\u001b[2K   \u001b[90m━━━━━━━━━━━━━━━━━━━━━━━━━━━━━━━━━━━━━━━━\u001b[0m \u001b[32m278.6/278.6 kB\u001b[0m \u001b[31m14.2 MB/s\u001b[0m eta \u001b[36m0:00:00\u001b[0m\n",
      "\u001b[?25hDownloading fastapi-0.115.6-py3-none-any.whl (94 kB)\n",
      "\u001b[2K   \u001b[90m━━━━━━━━━━━━━━━━━━━━━━━━━━━━━━━━━━━━━━━━\u001b[0m \u001b[32m94.8/94.8 kB\u001b[0m \u001b[31m5.3 MB/s\u001b[0m eta \u001b[36m0:00:00\u001b[0m\n",
      "\u001b[?25hDownloading httpx-0.28.1-py3-none-any.whl (73 kB)\n",
      "\u001b[2K   \u001b[90m━━━━━━━━━━━━━━━━━━━━━━━━━━━━━━━━━━━━━━━━\u001b[0m \u001b[32m73.5/73.5 kB\u001b[0m \u001b[31m3.9 MB/s\u001b[0m eta \u001b[36m0:00:00\u001b[0m\n",
      "\u001b[?25hDownloading httpcore-1.0.7-py3-none-any.whl (78 kB)\n",
      "\u001b[2K   \u001b[90m━━━━━━━━━━━━━━━━━━━━━━━━━━━━━━━━━━━━━━━━\u001b[0m \u001b[32m78.6/78.6 kB\u001b[0m \u001b[31m4.4 MB/s\u001b[0m eta \u001b[36m0:00:00\u001b[0m\n",
      "\u001b[?25hDownloading httpx_sse-0.4.0-py3-none-any.whl (7.8 kB)\n",
      "Downloading kubernetes-31.0.0-py2.py3-none-any.whl (1.9 MB)\n",
      "\u001b[2K   \u001b[90m━━━━━━━━━━━━━━━━━━━━━━━━━━━━━━━━━━━━━━━━\u001b[0m \u001b[32m1.9/1.9 MB\u001b[0m \u001b[31m45.3 MB/s\u001b[0m eta \u001b[36m0:00:00\u001b[0m:00:01\u001b[0m\n",
      "\u001b[?25hDownloading langchain_core-0.3.28-py3-none-any.whl (411 kB)\n",
      "\u001b[2K   \u001b[90m━━━━━━━━━━━━━━━━━━━━━━━━━━━━━━━━━━━━━━━━\u001b[0m \u001b[32m411.6/411.6 kB\u001b[0m \u001b[31m20.3 MB/s\u001b[0m eta \u001b[36m0:00:00\u001b[0m\n",
      "\u001b[?25hDownloading langchain_text_splitters-0.3.4-py3-none-any.whl (27 kB)\n",
      "Downloading langsmith-0.2.6-py3-none-any.whl (325 kB)\n",
      "\u001b[2K   \u001b[90m━━━━━━━━━━━━━━━━━━━━━━━━━━━━━━━━━━━━━━━━\u001b[0m \u001b[32m325.7/325.7 kB\u001b[0m \u001b[31m15.9 MB/s\u001b[0m eta \u001b[36m0:00:00\u001b[0m\n",
      "\u001b[?25hDownloading mmh3-5.0.1-cp310-cp310-manylinux_2_5_x86_64.manylinux1_x86_64.manylinux_2_17_x86_64.manylinux2014_x86_64.whl (93 kB)\n",
      "\u001b[2K   \u001b[90m━━━━━━━━━━━━━━━━━━━━━━━━━━━━━━━━━━━━━━━━\u001b[0m \u001b[32m93.2/93.2 kB\u001b[0m \u001b[31m4.4 MB/s\u001b[0m eta \u001b[36m0:00:00\u001b[0m\n",
      "\u001b[?25hDownloading onnxruntime-1.20.1-cp310-cp310-manylinux_2_27_x86_64.manylinux_2_28_x86_64.whl (13.3 MB)\n",
      "\u001b[2K   \u001b[90m━━━━━━━━━━━━━━━━━━━━━━━━━━━━━━━━━━━━━━━━\u001b[0m \u001b[32m13.3/13.3 MB\u001b[0m \u001b[31m75.0 MB/s\u001b[0m eta \u001b[36m0:00:00\u001b[0m:00:01\u001b[0m00:01\u001b[0m\n",
      "\u001b[?25hDownloading openai-1.58.1-py3-none-any.whl (454 kB)\n",
      "\u001b[2K   \u001b[90m━━━━━━━━━━━━━━━━━━━━━━━━━━━━━━━━━━━━━━━━\u001b[0m \u001b[32m454.3/454.3 kB\u001b[0m \u001b[31m22.9 MB/s\u001b[0m eta \u001b[36m0:00:00\u001b[0m\n",
      "\u001b[?25hDownloading opentelemetry_api-1.29.0-py3-none-any.whl (64 kB)\n",
      "\u001b[2K   \u001b[90m━━━━━━━━━━━━━━━━━━━━━━━━━━━━━━━━━━━━━━━━\u001b[0m \u001b[32m64.3/64.3 kB\u001b[0m \u001b[31m2.9 MB/s\u001b[0m eta \u001b[36m0:00:00\u001b[0m\n",
      "\u001b[?25hDownloading opentelemetry_exporter_otlp_proto_grpc-1.29.0-py3-none-any.whl (18 kB)\n",
      "Downloading opentelemetry_exporter_otlp_proto_common-1.29.0-py3-none-any.whl (18 kB)\n",
      "Downloading opentelemetry_proto-1.29.0-py3-none-any.whl (55 kB)\n",
      "\u001b[2K   \u001b[90m━━━━━━━━━━━━━━━━━━━━━━━━━━━━━━━━━━━━━━━━\u001b[0m \u001b[32m55.8/55.8 kB\u001b[0m \u001b[31m2.8 MB/s\u001b[0m eta \u001b[36m0:00:00\u001b[0m\n",
      "\u001b[?25hDownloading opentelemetry_instrumentation_fastapi-0.50b0-py3-none-any.whl (12 kB)\n",
      "Downloading opentelemetry_instrumentation-0.50b0-py3-none-any.whl (30 kB)\n",
      "Downloading opentelemetry_instrumentation_asgi-0.50b0-py3-none-any.whl (16 kB)\n",
      "Downloading opentelemetry_semantic_conventions-0.50b0-py3-none-any.whl (166 kB)\n",
      "\u001b[2K   \u001b[90m━━━━━━━━━━━━━━━━━━━━━━━━━━━━━━━━━━━━━━━━\u001b[0m \u001b[32m166.6/166.6 kB\u001b[0m \u001b[31m8.2 MB/s\u001b[0m eta \u001b[36m0:00:00\u001b[0m\n",
      "\u001b[?25hDownloading opentelemetry_util_http-0.50b0-py3-none-any.whl (6.9 kB)\n",
      "Downloading opentelemetry_sdk-1.29.0-py3-none-any.whl (118 kB)\n",
      "\u001b[2K   \u001b[90m━━━━━━━━━━━━━━━━━━━━━━━━━━━━━━━━━━━━━━━━\u001b[0m \u001b[32m118.1/118.1 kB\u001b[0m \u001b[31m5.2 MB/s\u001b[0m eta \u001b[36m0:00:00\u001b[0m\n",
      "\u001b[?25hDownloading orjson-3.10.12-cp310-cp310-manylinux_2_17_x86_64.manylinux2014_x86_64.whl (131 kB)\n",
      "\u001b[2K   \u001b[90m━━━━━━━━━━━━━━━━━━━━━━━━━━━━━━━━━━━━━━━━\u001b[0m \u001b[32m131.3/131.3 kB\u001b[0m \u001b[31m5.3 MB/s\u001b[0m eta \u001b[36m0:00:00\u001b[0m\n",
      "\u001b[?25hDownloading posthog-3.7.4-py2.py3-none-any.whl (54 kB)\n",
      "\u001b[2K   \u001b[90m━━━━━━━━━━━━━━━━━━━━━━━━━━━━━━━━━━━━━━━━\u001b[0m \u001b[32m54.8/54.8 kB\u001b[0m \u001b[31m2.4 MB/s\u001b[0m eta \u001b[36m0:00:00\u001b[0m\n",
      "\u001b[?25hDownloading pydantic_settings-2.7.0-py3-none-any.whl (29 kB)\n",
      "Downloading types_requests-2.32.0.20241016-py3-none-any.whl (15 kB)\n",
      "Downloading uvicorn-0.34.0-py3-none-any.whl (62 kB)\n",
      "\u001b[2K   \u001b[90m━━━━━━━━━━━━━━━━━━━━━━━━━━━━━━━━━━━━━━━━\u001b[0m \u001b[32m62.3/62.3 kB\u001b[0m \u001b[31m3.3 MB/s\u001b[0m eta \u001b[36m0:00:00\u001b[0m\n",
      "\u001b[?25hDownloading backoff-2.2.1-py3-none-any.whl (15 kB)\n",
      "Downloading durationpy-0.9-py3-none-any.whl (3.5 kB)\n",
      "Downloading h11-0.14.0-py3-none-any.whl (58 kB)\n",
      "\u001b[2K   \u001b[90m━━━━━━━━━━━━━━━━━━━━━━━━━━━━━━━━━━━━━━━━\u001b[0m \u001b[32m58.3/58.3 kB\u001b[0m \u001b[31m2.8 MB/s\u001b[0m eta \u001b[36m0:00:00\u001b[0m\n",
      "\u001b[?25hDownloading httptools-0.6.4-cp310-cp310-manylinux_2_5_x86_64.manylinux1_x86_64.manylinux_2_17_x86_64.manylinux2014_x86_64.whl (442 kB)\n",
      "\u001b[2K   \u001b[90m━━━━━━━━━━━━━━━━━━━━━━━━━━━━━━━━━━━━━━━━\u001b[0m \u001b[32m442.1/442.1 kB\u001b[0m \u001b[31m20.8 MB/s\u001b[0m eta \u001b[36m0:00:00\u001b[0m\n",
      "\u001b[?25hDownloading jiter-0.8.2-cp310-cp310-manylinux_2_17_x86_64.manylinux2014_x86_64.whl (345 kB)\n",
      "\u001b[2K   \u001b[90m━━━━━━━━━━━━━━━━━━━━━━━━━━━━━━━━━━━━━━━━\u001b[0m \u001b[32m345.0/345.0 kB\u001b[0m \u001b[31m18.0 MB/s\u001b[0m eta \u001b[36m0:00:00\u001b[0m\n",
      "\u001b[?25hDownloading jsonpatch-1.33-py2.py3-none-any.whl (12 kB)\n",
      "Downloading monotonic-1.6-py2.py3-none-any.whl (8.2 kB)\n",
      "Downloading protobuf-5.29.2-cp38-abi3-manylinux2014_x86_64.whl (319 kB)\n",
      "\u001b[2K   \u001b[90m━━━━━━━━━━━━━━━━━━━━━━━━━━━━━━━━━━━━━━━━\u001b[0m \u001b[32m319.7/319.7 kB\u001b[0m \u001b[31m14.0 MB/s\u001b[0m eta \u001b[36m0:00:00\u001b[0m\n",
      "\u001b[?25hDownloading python_dotenv-1.0.1-py3-none-any.whl (19 kB)\n",
      "Downloading requests_toolbelt-1.0.0-py2.py3-none-any.whl (54 kB)\n",
      "\u001b[2K   \u001b[90m━━━━━━━━━━━━━━━━━━━━━━━━━━━━━━━━━━━━━━━━\u001b[0m \u001b[32m54.5/54.5 kB\u001b[0m \u001b[31m2.6 MB/s\u001b[0m eta \u001b[36m0:00:00\u001b[0m\n",
      "\u001b[?25hDownloading starlette-0.41.3-py3-none-any.whl (73 kB)\n",
      "\u001b[2K   \u001b[90m━━━━━━━━━━━━━━━━━━━━━━━━━━━━━━━━━━━━━━━━\u001b[0m \u001b[32m73.2/73.2 kB\u001b[0m \u001b[31m3.4 MB/s\u001b[0m eta \u001b[36m0:00:00\u001b[0m\n",
      "\u001b[?25hDownloading uvloop-0.21.0-cp310-cp310-manylinux_2_17_x86_64.manylinux2014_x86_64.whl (3.8 MB)\n",
      "\u001b[2K   \u001b[90m━━━━━━━━━━━━━━━━━━━━━━━━━━━━━━━━━━━━━━━━\u001b[0m \u001b[32m3.8/3.8 MB\u001b[0m \u001b[31m59.1 MB/s\u001b[0m eta \u001b[36m0:00:00\u001b[0m:00:01\u001b[0m\n",
      "\u001b[?25hDownloading watchfiles-1.0.3-cp310-cp310-manylinux_2_17_x86_64.manylinux2014_x86_64.whl (443 kB)\n",
      "\u001b[2K   \u001b[90m━━━━━━━━━━━━━━━━━━━━━━━━━━━━━━━━━━━━━━━━\u001b[0m \u001b[32m443.8/443.8 kB\u001b[0m \u001b[31m19.0 MB/s\u001b[0m eta \u001b[36m0:00:00\u001b[0m\n",
      "\u001b[?25hDownloading coloredlogs-15.0.1-py2.py3-none-any.whl (46 kB)\n",
      "\u001b[2K   \u001b[90m━━━━━━━━━━━━━━━━━━━━━━━━━━━━━━━━━━━━━━━━\u001b[0m \u001b[32m46.0/46.0 kB\u001b[0m \u001b[31m1.8 MB/s\u001b[0m eta \u001b[36m0:00:00\u001b[0m\n",
      "\u001b[?25hDownloading asgiref-3.8.1-py3-none-any.whl (23 kB)\n",
      "Downloading humanfriendly-10.0-py2.py3-none-any.whl (86 kB)\n",
      "\u001b[2K   \u001b[90m━━━━━━━━━━━━━━━━━━━━━━━━━━━━━━━━━━━━━━━━\u001b[0m \u001b[32m86.8/86.8 kB\u001b[0m \u001b[31m4.7 MB/s\u001b[0m eta \u001b[36m0:00:00\u001b[0m\n",
      "\u001b[?25hBuilding wheels for collected packages: pypika\n",
      "  Building wheel for pypika (pyproject.toml) ... \u001b[?25l\u001b[?25hdone\n",
      "  Created wheel for pypika: filename=PyPika-0.48.9-py2.py3-none-any.whl size=53725 sha256=942d4d8bb67556d61e767926843104e1e82abe1ae19eb63f00dd50109d6bd118\n",
      "  Stored in directory: /root/.cache/pip/wheels/e1/26/51/d0bffb3d2fd82256676d7ad3003faea3bd6dddc9577af665f4\n",
      "Successfully built pypika\n",
      "Installing collected packages: pypika, monotonic, durationpy, uvloop, types-requests, python-dotenv, protobuf, orjson, opentelemetry-util-http, mmh3, jsonpatch, jiter, humanfriendly, httpx-sse, httptools, h11, chroma-hnswlib, bcrypt, backoff, asgiref, watchfiles, uvicorn, starlette, requests-toolbelt, posthog, opentelemetry-proto, opentelemetry-api, langchainhub, httpcore, coloredlogs, pydantic-settings, opentelemetry-semantic-conventions, opentelemetry-exporter-otlp-proto-common, onnxruntime, kubernetes, httpx, fastapi, opentelemetry-sdk, opentelemetry-instrumentation, openai, langsmith, opentelemetry-instrumentation-asgi, opentelemetry-exporter-otlp-proto-grpc, langchain-core, opentelemetry-instrumentation-fastapi, langchain-text-splitters, langchain-openai, langchain, chromadb, langchain_community\n",
      "  Attempting uninstall: protobuf\n",
      "    Found existing installation: protobuf 3.20.3\n",
      "    Uninstalling protobuf-3.20.3:\n",
      "      Successfully uninstalled protobuf-3.20.3\n",
      "\u001b[31mERROR: pip's dependency resolver does not currently take into account all the packages that are installed. This behaviour is the source of the following dependency conflicts.\n",
      "cudf-cu12 24.4.1 requires protobuf<5,>=3.20, but you have protobuf 5.29.2 which is incompatible.\n",
      "cudf-cu12 24.4.1 requires pyarrow<15.0.0a0,>=14.0.1, but you have pyarrow 18.1.0 which is incompatible.\n",
      "google-ai-generativelanguage 0.6.6 requires protobuf!=3.20.0,!=3.20.1,!=4.21.0,!=4.21.1,!=4.21.2,!=4.21.3,!=4.21.4,!=4.21.5,<5.0.0dev,>=3.19.5, but you have protobuf 5.29.2 which is incompatible.\n",
      "google-api-core 1.34.1 requires protobuf!=3.20.0,!=3.20.1,!=4.21.0,!=4.21.1,!=4.21.2,!=4.21.3,!=4.21.4,!=4.21.5,<4.0.0dev,>=3.19.5, but you have protobuf 5.29.2 which is incompatible.\n",
      "google-cloud-bigtable 2.26.0 requires google-api-core[grpc]<3.0.0dev,>=2.16.0, but you have google-api-core 1.34.1 which is incompatible.\n",
      "google-cloud-datastore 2.19.0 requires protobuf!=3.20.0,!=3.20.1,!=4.21.0,!=4.21.1,!=4.21.2,!=4.21.3,!=4.21.4,!=4.21.5,<5.0.0dev,>=3.19.5, but you have protobuf 5.29.2 which is incompatible.\n",
      "google-cloud-firestore 2.16.1 requires protobuf!=3.20.0,!=3.20.1,!=4.21.0,!=4.21.1,!=4.21.2,!=4.21.3,!=4.21.4,!=4.21.5,<5.0.0dev,>=3.19.5, but you have protobuf 5.29.2 which is incompatible.\n",
      "google-cloud-translate 3.12.1 requires protobuf!=3.20.0,!=3.20.1,!=4.21.0,!=4.21.1,!=4.21.2,!=4.21.3,!=4.21.4,!=4.21.5,<5.0.0dev,>=3.19.5, but you have protobuf 5.29.2 which is incompatible.\n",
      "pandas-gbq 0.23.1 requires google-api-core<3.0.0dev,>=2.10.2, but you have google-api-core 1.34.1 which is incompatible.\n",
      "tensorboard 2.17.0 requires protobuf!=4.24.0,<5.0.0,>=3.19.6, but you have protobuf 5.29.2 which is incompatible.\n",
      "tensorflow 2.17.0 requires protobuf!=4.21.0,!=4.21.1,!=4.21.2,!=4.21.3,!=4.21.4,!=4.21.5,<5.0.0dev,>=3.20.3, but you have protobuf 5.29.2 which is incompatible.\n",
      "tensorflow-metadata 1.15.0 requires protobuf<4.21,>=3.20.3; python_version < \"3.11\", but you have protobuf 5.29.2 which is incompatible.\u001b[0m\u001b[31m\n",
      "\u001b[0mSuccessfully installed asgiref-3.8.1 backoff-2.2.1 bcrypt-4.2.1 chroma-hnswlib-0.7.6 chromadb-0.5.23 coloredlogs-15.0.1 durationpy-0.9 fastapi-0.115.6 h11-0.14.0 httpcore-1.0.7 httptools-0.6.4 httpx-0.28.1 httpx-sse-0.4.0 humanfriendly-10.0 jiter-0.8.2 jsonpatch-1.33 kubernetes-31.0.0 langchain-0.3.13 langchain-core-0.3.28 langchain-openai-0.2.14 langchain-text-splitters-0.3.4 langchain_community-0.3.13 langchainhub-0.1.21 langsmith-0.2.6 mmh3-5.0.1 monotonic-1.6 onnxruntime-1.20.1 openai-1.58.1 opentelemetry-api-1.29.0 opentelemetry-exporter-otlp-proto-common-1.29.0 opentelemetry-exporter-otlp-proto-grpc-1.29.0 opentelemetry-instrumentation-0.50b0 opentelemetry-instrumentation-asgi-0.50b0 opentelemetry-instrumentation-fastapi-0.50b0 opentelemetry-proto-1.29.0 opentelemetry-sdk-1.29.0 opentelemetry-semantic-conventions-0.50b0 opentelemetry-util-http-0.50b0 orjson-3.10.12 posthog-3.7.4 protobuf-5.29.2 pydantic-settings-2.7.0 pypika-0.48.9 python-dotenv-1.0.1 requests-toolbelt-1.0.0 starlette-0.41.3 types-requests-2.32.0.20241016 uvicorn-0.34.0 uvloop-0.21.0 watchfiles-1.0.3\n"
     ]
    }
   ],
   "source": [
    "! pip install langchain_community tiktoken langchain-openai langchainhub chromadb langchain"
   ]
  },
  {
   "cell_type": "code",
   "execution_count": 4,
   "metadata": {
    "execution": {
     "iopub.execute_input": "2024-12-25T22:58:34.377122Z",
     "iopub.status.busy": "2024-12-25T22:58:34.376796Z",
     "iopub.status.idle": "2024-12-25T22:58:34.384508Z",
     "shell.execute_reply": "2024-12-25T22:58:34.382504Z",
     "shell.execute_reply.started": "2024-12-25T22:58:34.377092Z"
    }
   },
   "outputs": [],
   "source": [
    "import os\n",
    "os.environ['LANGCHAIN_TRACING_V2'] = 'true'\n",
    "os.environ['LANGCHAIN_ENDPOINT'] = 'https://api.smith.langchain.com'\n",
    "os.environ['LANGCHAIN_API_KEY'] = ''"
   ]
  },
  {
   "cell_type": "code",
   "execution_count": 5,
   "metadata": {
    "execution": {
     "iopub.execute_input": "2024-12-25T22:58:47.197554Z",
     "iopub.status.busy": "2024-12-25T22:58:47.197091Z",
     "iopub.status.idle": "2024-12-25T22:58:51.691571Z",
     "shell.execute_reply": "2024-12-25T22:58:51.690121Z",
     "shell.execute_reply.started": "2024-12-25T22:58:47.197516Z"
    }
   },
   "outputs": [
    {
     "name": "stdout",
     "output_type": "stream",
     "text": [
      "Requirement already satisfied: openai in /usr/local/lib/python3.10/dist-packages (1.58.1)\n",
      "Requirement already satisfied: anyio<5,>=3.5.0 in /usr/local/lib/python3.10/dist-packages (from openai) (3.7.1)\n",
      "Requirement already satisfied: distro<2,>=1.7.0 in /usr/lib/python3/dist-packages (from openai) (1.7.0)\n",
      "Requirement already satisfied: httpx<1,>=0.23.0 in /usr/local/lib/python3.10/dist-packages (from openai) (0.28.1)\n",
      "Requirement already satisfied: jiter<1,>=0.4.0 in /usr/local/lib/python3.10/dist-packages (from openai) (0.8.2)\n",
      "Requirement already satisfied: pydantic<3,>=1.9.0 in /usr/local/lib/python3.10/dist-packages (from openai) (2.9.2)\n",
      "Requirement already satisfied: sniffio in /usr/local/lib/python3.10/dist-packages (from openai) (1.3.1)\n",
      "Requirement already satisfied: tqdm>4 in /usr/local/lib/python3.10/dist-packages (from openai) (4.66.5)\n",
      "Requirement already satisfied: typing-extensions<5,>=4.11 in /usr/local/lib/python3.10/dist-packages (from openai) (4.12.2)\n",
      "Requirement already satisfied: idna>=2.8 in /usr/local/lib/python3.10/dist-packages (from anyio<5,>=3.5.0->openai) (3.10)\n",
      "Requirement already satisfied: exceptiongroup in /usr/local/lib/python3.10/dist-packages (from anyio<5,>=3.5.0->openai) (1.2.2)\n",
      "Requirement already satisfied: certifi in /usr/local/lib/python3.10/dist-packages (from httpx<1,>=0.23.0->openai) (2024.8.30)\n",
      "Requirement already satisfied: httpcore==1.* in /usr/local/lib/python3.10/dist-packages (from httpx<1,>=0.23.0->openai) (1.0.7)\n",
      "Requirement already satisfied: h11<0.15,>=0.13 in /usr/local/lib/python3.10/dist-packages (from httpcore==1.*->httpx<1,>=0.23.0->openai) (0.14.0)\n",
      "Requirement already satisfied: annotated-types>=0.6.0 in /usr/local/lib/python3.10/dist-packages (from pydantic<3,>=1.9.0->openai) (0.7.0)\n",
      "Requirement already satisfied: pydantic-core==2.23.4 in /usr/local/lib/python3.10/dist-packages (from pydantic<3,>=1.9.0->openai) (2.23.4)\n"
     ]
    }
   ],
   "source": [
    "!pip install openai"
   ]
  },
  {
   "cell_type": "code",
   "execution_count": 40,
   "metadata": {
    "execution": {
     "iopub.execute_input": "2024-12-26T00:26:02.809935Z",
     "iopub.status.busy": "2024-12-26T00:26:02.809477Z",
     "iopub.status.idle": "2024-12-26T00:26:03.802024Z",
     "shell.execute_reply": "2024-12-26T00:26:03.800811Z",
     "shell.execute_reply.started": "2024-12-26T00:26:02.809905Z"
    }
   },
   "outputs": [
    {
     "name": "stdout",
     "output_type": "stream",
     "text": [
      "The intelligence of an individual named Matvey would depend on various factors, including their educational background, experiences, cognitive abilities, and skills. If you're referring to a specific Matvey, I would need more context to provide an accurate answer. Intelligence can also manifest in many different forms, such as emotional intelligence, analytical skills, creativity, and social skills.\n"
     ]
    }
   ],
   "source": [
    "from openai import OpenAI\n",
    "\n",
    "client = OpenAI(\n",
    "  api_key=\"\"\n",
    ")\n",
    "\n",
    "completion = client.chat.completions.create(\n",
    "  model=\"gpt-4o-mini\",\n",
    "  store=True,\n",
    "  messages=[\n",
    "    {\"role\": \"user\", \"content\": \"Is Matvey smart?\"}\n",
    "  ]\n",
    ")\n",
    "\n",
    "print(completion.choices[0].message.content);"
   ]
  },
  {
   "cell_type": "code",
   "execution_count": 41,
   "metadata": {
    "execution": {
     "iopub.execute_input": "2024-12-26T00:26:08.068252Z",
     "iopub.status.busy": "2024-12-26T00:26:08.067875Z",
     "iopub.status.idle": "2024-12-26T00:26:08.073668Z",
     "shell.execute_reply": "2024-12-26T00:26:08.072287Z",
     "shell.execute_reply.started": "2024-12-26T00:26:08.068220Z"
    }
   },
   "outputs": [],
   "source": [
    "os.environ['OPENAI_API_KEY'] = \"\""
   ]
  },
  {
   "cell_type": "code",
   "execution_count": 42,
   "metadata": {
    "execution": {
     "iopub.execute_input": "2024-12-26T00:26:10.975123Z",
     "iopub.status.busy": "2024-12-26T00:26:10.974714Z",
     "iopub.status.idle": "2024-12-26T00:26:15.582750Z",
     "shell.execute_reply": "2024-12-26T00:26:15.581103Z",
     "shell.execute_reply.started": "2024-12-26T00:26:10.975094Z"
    }
   },
   "outputs": [
    {
     "name": "stderr",
     "output_type": "stream",
     "text": [
      "/usr/lib/python3.10/pty.py:89: RuntimeWarning: os.fork() was called. os.fork() is incompatible with multithreaded code, and JAX is multithreaded, so this will likely lead to a deadlock.\n",
      "  pid, fd = os.forkpty()\n"
     ]
    },
    {
     "name": "stdout",
     "output_type": "stream",
     "text": [
      "Requirement already satisfied: sentence-transformers in /usr/local/lib/python3.10/dist-packages (3.3.1)\n",
      "Requirement already satisfied: transformers<5.0.0,>=4.41.0 in /usr/local/lib/python3.10/dist-packages (from sentence-transformers) (4.44.2)\n",
      "Requirement already satisfied: tqdm in /usr/local/lib/python3.10/dist-packages (from sentence-transformers) (4.66.5)\n",
      "Requirement already satisfied: torch>=1.11.0 in /usr/local/lib/python3.10/dist-packages (from sentence-transformers) (2.4.1+cu121)\n",
      "Requirement already satisfied: scikit-learn in /usr/local/lib/python3.10/dist-packages (from sentence-transformers) (1.2.2)\n",
      "Requirement already satisfied: scipy in /usr/local/lib/python3.10/dist-packages (from sentence-transformers) (1.13.1)\n",
      "Requirement already satisfied: huggingface-hub>=0.20.0 in /usr/local/lib/python3.10/dist-packages (from sentence-transformers) (0.24.7)\n",
      "Requirement already satisfied: Pillow in /usr/local/lib/python3.10/dist-packages (from sentence-transformers) (10.4.0)\n",
      "Requirement already satisfied: filelock in /usr/local/lib/python3.10/dist-packages (from huggingface-hub>=0.20.0->sentence-transformers) (3.16.1)\n",
      "Requirement already satisfied: fsspec>=2023.5.0 in /usr/local/lib/python3.10/dist-packages (from huggingface-hub>=0.20.0->sentence-transformers) (2024.6.1)\n",
      "Requirement already satisfied: packaging>=20.9 in /usr/local/lib/python3.10/dist-packages (from huggingface-hub>=0.20.0->sentence-transformers) (24.1)\n",
      "Requirement already satisfied: pyyaml>=5.1 in /usr/local/lib/python3.10/dist-packages (from huggingface-hub>=0.20.0->sentence-transformers) (6.0.2)\n",
      "Requirement already satisfied: requests in /usr/local/lib/python3.10/dist-packages (from huggingface-hub>=0.20.0->sentence-transformers) (2.32.3)\n",
      "Requirement already satisfied: typing-extensions>=3.7.4.3 in /usr/local/lib/python3.10/dist-packages (from huggingface-hub>=0.20.0->sentence-transformers) (4.12.2)\n",
      "Requirement already satisfied: sympy in /usr/local/lib/python3.10/dist-packages (from torch>=1.11.0->sentence-transformers) (1.13.3)\n",
      "Requirement already satisfied: networkx in /usr/local/lib/python3.10/dist-packages (from torch>=1.11.0->sentence-transformers) (3.3)\n",
      "Requirement already satisfied: jinja2 in /usr/local/lib/python3.10/dist-packages (from torch>=1.11.0->sentence-transformers) (3.1.4)\n",
      "Requirement already satisfied: numpy>=1.17 in /usr/local/lib/python3.10/dist-packages (from transformers<5.0.0,>=4.41.0->sentence-transformers) (1.26.4)\n",
      "Requirement already satisfied: regex!=2019.12.17 in /usr/local/lib/python3.10/dist-packages (from transformers<5.0.0,>=4.41.0->sentence-transformers) (2024.9.11)\n",
      "Requirement already satisfied: safetensors>=0.4.1 in /usr/local/lib/python3.10/dist-packages (from transformers<5.0.0,>=4.41.0->sentence-transformers) (0.4.5)\n",
      "Requirement already satisfied: tokenizers<0.20,>=0.19 in /usr/local/lib/python3.10/dist-packages (from transformers<5.0.0,>=4.41.0->sentence-transformers) (0.19.1)\n",
      "Requirement already satisfied: joblib>=1.1.1 in /usr/local/lib/python3.10/dist-packages (from scikit-learn->sentence-transformers) (1.4.2)\n",
      "Requirement already satisfied: threadpoolctl>=2.0.0 in /usr/local/lib/python3.10/dist-packages (from scikit-learn->sentence-transformers) (3.5.0)\n",
      "Requirement already satisfied: MarkupSafe>=2.0 in /usr/local/lib/python3.10/dist-packages (from jinja2->torch>=1.11.0->sentence-transformers) (2.1.5)\n",
      "Requirement already satisfied: charset-normalizer<4,>=2 in /usr/local/lib/python3.10/dist-packages (from requests->huggingface-hub>=0.20.0->sentence-transformers) (3.3.2)\n",
      "Requirement already satisfied: idna<4,>=2.5 in /usr/local/lib/python3.10/dist-packages (from requests->huggingface-hub>=0.20.0->sentence-transformers) (3.10)\n",
      "Requirement already satisfied: urllib3<3,>=1.21.1 in /usr/local/lib/python3.10/dist-packages (from requests->huggingface-hub>=0.20.0->sentence-transformers) (2.2.3)\n",
      "Requirement already satisfied: certifi>=2017.4.17 in /usr/local/lib/python3.10/dist-packages (from requests->huggingface-hub>=0.20.0->sentence-transformers) (2024.8.30)\n",
      "Requirement already satisfied: mpmath<1.4,>=1.1.0 in /usr/local/lib/python3.10/dist-packages (from sympy->torch>=1.11.0->sentence-transformers) (1.3.0)\n"
     ]
    }
   ],
   "source": [
    "!pip install sentence-transformers"
   ]
  },
  {
   "cell_type": "code",
   "execution_count": 7,
   "metadata": {
    "execution": {
     "iopub.execute_input": "2024-12-25T15:19:26.045787Z",
     "iopub.status.busy": "2024-12-25T15:19:26.045400Z",
     "iopub.status.idle": "2024-12-25T15:19:30.139539Z",
     "shell.execute_reply": "2024-12-25T15:19:30.138064Z",
     "shell.execute_reply.started": "2024-12-25T15:19:26.045724Z"
    }
   },
   "outputs": [],
   "source": [
    "!pip install -qU pypdf"
   ]
  },
  {
   "cell_type": "markdown",
   "metadata": {},
   "source": [
    "# 2. Сырая версия"
   ]
  },
  {
   "cell_type": "code",
   "execution_count": 48,
   "metadata": {
    "execution": {
     "iopub.execute_input": "2024-12-26T00:31:23.401784Z",
     "iopub.status.busy": "2024-12-26T00:31:23.401309Z",
     "iopub.status.idle": "2024-12-26T00:31:32.466378Z",
     "shell.execute_reply": "2024-12-26T00:31:32.465195Z",
     "shell.execute_reply.started": "2024-12-26T00:31:23.401752Z"
    }
   },
   "outputs": [
    {
     "name": "stderr",
     "output_type": "stream",
     "text": [
      "/usr/local/lib/python3.10/dist-packages/transformers/tokenization_utils_base.py:1601: FutureWarning: `clean_up_tokenization_spaces` was not set. It will be set to `True` by default. This behavior will be depracted in transformers v4.45, and will be then set to `False` by default. For more details check this issue: https://github.com/huggingface/transformers/issues/31884\n",
      "  warnings.warn(\n"
     ]
    },
    {
     "data": {
      "text/plain": [
       "'Если вы инженер машинного обучения и хотите переехать в Европу, я бы рекомендовал рассмотреть следующие страны:\\n\\n1. **Германия**: Германия имеет стабильную экономику и высокий спрос на специалистов в области информационных технологий, включая машинное обучение. В стране активно развиваются стартапы и крупные компании, работающие в этой области. Кроме того, Германия предлагает программу профессиональной иммиграции для специалистов с профильным образованием, что может облегчить процесс получения визы.\\n\\n2. **Нидерланды**: В Нидерландах наблюдается рост числа рабочих мест в сфере ИТ, включая машинное обучение. Страна известна своим открытым подходом к иммиграции и высоким уровнем жизни. Заработная плата для программистов варьируется от 50 до 60 тысяч евро в год, что делает Нидерланды привлекательным местом для переезда.\\n\\n3. **Великобритания**: Лондон и Дублин являются важными центрами технологий в Европе. Великобритания предлагает конкурентоспособные зарплаты для специалистов в области машинного обучения, а также множество возможностей для карьерного роста. Однако стоит учитывать, что процесс получения визы может быть более сложным после Brexit.\\n\\n4. **Швейцария**: Швейцария известна высоким уровнем жизни и высокими зарплатами для специалистов в области ИТ. Цюрих входит в ТОП 20 технологических городов будущего. Однако стоит отметить, что для работы в Швейцарии предпочтение отдается специалистам с гражданством стран ЕС и EFTA.\\n\\n5. **Испания**: Если вы ищете более теплый климат и низкую конкуренцию, Испания может быть хорошим вариантом. В Барселоне, например, есть множество стартапов и компаний, работающих в области технологий. Процесс эмиграции относительно прост, и средняя зарплата для программистов составляет около 35 тысяч долларов в год.\\n\\nКаждая из этих стран имеет свои плюсы и минусы, поэтому стоит учитывать не только уровень зарплат, но и личные предпочтения, такие как язык, культура и климат.'"
      ]
     },
     "execution_count": 48,
     "metadata": {},
     "output_type": "execute_result"
    }
   ],
   "source": [
    "from langchain.embeddings import HuggingFaceEmbeddings\n",
    "import bs4\n",
    "from langchain import hub\n",
    "from langchain.text_splitter import RecursiveCharacterTextSplitter\n",
    "from langchain_community.document_loaders import WebBaseLoader\n",
    "from langchain_community.vectorstores import Chroma\n",
    "from langchain_core.output_parsers import StrOutputParser\n",
    "from langchain_core.runnables import RunnablePassthrough\n",
    "from langchain_openai import ChatOpenAI, OpenAIEmbeddings\n",
    "from uuid import uuid4\n",
    "from langchain_core.documents import Document\n",
    "from langchain.prompts import PromptTemplate\n",
    "import numpy as np\n",
    "\n",
    "# loader = WebBaseLoader(\n",
    "    # web_paths=(\"\",)\n",
    "# )\n",
    "# docs = loader.load()\n",
    "# text_splitter = RecursiveCharacterTextSplitter.from_tiktoken_encoder(\n",
    "    # chunk_size=300, \n",
    "    # chunk_overlap=50)\n",
    "# splits = text_splitter.split_documents(docs)\n",
    "\n",
    "docs = []\n",
    "directory = '/kaggle/input/my-data/'\n",
    "text_splitter = RecursiveCharacterTextSplitter.from_tiktoken_encoder(\n",
    "    chunk_size=300, \n",
    "    chunk_overlap=50)\n",
    "splits = []\n",
    "for file_path in os.listdir(directory):\n",
    "    with open(directory+file_path, encoding='Windows-1251') as f:\n",
    "        content = f.read()\n",
    "        docs.append(content)\n",
    "        f.close()\n",
    "#splits.append(text_splitter.split_text(content))\n",
    "#splits_new = np.array(splits).flatten()\n",
    "#splits = list(splits_new)\n",
    "#print(splits)\n",
    "documents = []\n",
    "for i in range(len(docs)):\n",
    "    document = Document(\n",
    "        page_content=docs[i],\n",
    "        metadata={\"source\": \"Internet\"},\n",
    "        id=i,\n",
    "    )\n",
    "    documents.append(document)\n",
    "\n",
    "embedding = HuggingFaceEmbeddings(model_name=\"sentence-transformers/all-MiniLM-L6-v2\")\n",
    "vectorstore = Chroma.from_documents(documents=documents, embedding=embedding)\n",
    "# \n",
    "# document_1 = Document(\n",
    "    # page_content=\"В Сингапуре проживает 5.6 миллионов человек\",\n",
    "    # metadata={\"source\": \"tweet\"},\n",
    "    # id=1,\n",
    "# )\n",
    "#vectorstore.add_documents(documents=[document_1], ids=[str(uuid4())])\n",
    "\n",
    "retriever = vectorstore.as_retriever()\n",
    "# Prompt\n",
    "prompt = PromptTemplate(\n",
    "    input_variables=['page_content', 'question'],\n",
    "    template=\"\"\" На основании следующего контекста ответь на вопрос:\n",
    "    Контекст: {context}\n",
    "    Вопрос: {question}\n",
    "    Ответ:\n",
    "    \"\"\"\n",
    ")\n",
    "\n",
    "# LLM\n",
    "llm = ChatOpenAI(model_name=\"gpt-4o-mini\", temperature=0)\n",
    "\n",
    "# Post-processing\n",
    "def format_docs(docs):\n",
    "    return \"\\n\\n\".join(doc.page_content for doc in docs)\n",
    "\n",
    "# Chain\n",
    "rag_chain = (\n",
    "    {\"context\": retriever | format_docs, \"question\": RunnablePassthrough()}\n",
    "    | prompt\n",
    "    | llm\n",
    "    | StrOutputParser()\n",
    ")\n",
    "\n",
    "# Question\n",
    "question = \"Я инженер машинного обучения, хочу переехать в Европу. Куда посоветуешь поехать и почему?\"\n",
    "rag_chain.invoke(question)"
   ]
  },
  {
   "cell_type": "code",
   "execution_count": 49,
   "metadata": {
    "execution": {
     "iopub.execute_input": "2024-12-26T00:31:42.467698Z",
     "iopub.status.busy": "2024-12-26T00:31:42.467238Z",
     "iopub.status.idle": "2024-12-26T00:31:42.516172Z",
     "shell.execute_reply": "2024-12-26T00:31:42.515043Z",
     "shell.execute_reply.started": "2024-12-26T00:31:42.467668Z"
    }
   },
   "outputs": [
    {
     "name": "stdout",
     "output_type": "stream",
     "text": [
      "* Сегодня мы расскажем о 10 лучших\n",
      "странах для проживания программистов.\n",
      "РЕЙТИНГ ЛУЧШИХ СТРАН ДЛЯ РАБОТЫ\n",
      "ПРОГРАММИСТОМ\n",
      "КИТАЙ\n",
      "Население современного Китая почти\n",
      "достигает цифры в 1,5 миллиарда\n",
      "человек, поэтому совсем не\n",
      "удивительно, что именно жители этого\n",
      "государства составляют бОльшую часть\n",
      "интернет пользователей мира. Рынок\n",
      "различных гаджетов каждый год\n",
      "пополняется новинками, но вот\n",
      "ИТ-разработчики в Китае — главный\n",
      "дефицит.\n",
      " город в Китае - одной из топовых стран\n",
      "для переезда программиста \n",
      "Для переезда программисту необходимо\n",
      "получить приглашение от будущего\n",
      "работодателя и оформить разрешение на\n",
      "работу по рабочей визе класса Z.\n",
      "АВСТРАЛИЯ\n",
      "В Австралии находятся\n",
      "представительства таких крупных\n",
      "IT-компаний как Facebook, Google, Amazon, Microsoft,\n",
      "поэтому становится понятно, что и на\n",
      "этом далеком материке можно найти\n",
      "что-то интересное.\n",
      "Для оформления визы и переезда, it\n",
      "специалисту необходимо:\n",
      "      подтвердить опыт работы;  \n",
      "      сдать языковой экзамен IELTS;  \n",
      "      пройти медобследование;  \n",
      "      предоставить справку об отсутствии\n",
      "судимостей; \n",
      "      оформить медстраховку. \n",
      " Уровень зарплат программистов в\n",
      "Австралии  \n",
      "КИПР\n",
      "Кипр также входит в наш рейтинг лучших\n",
      "стран для it специалистов. По версии\n",
      "журнала CeoWorld, по уровню жизни Кипр\n",
      "опережает такие страны как Мальта,\n",
      "Китай и Греция.\n",
      "Если программист принял решение\n",
      "переехать на Кипр, нужно лишь получить\n",
      "предложение о работе и собрать\n",
      "необходимые документы. В этот\n",
      "перечень входят:\n",
      "      внутренний и заграничный паспорта; \n",
      "      диплом об образовании;  \n",
      "      резюме на английском языке; \n",
      "      справка об отсутствии судимостей. \n",
      "ИСПАНИЯ\n",
      "Процесс эмиграции программиста в\n",
      "Испанию прост — сотрудник\n",
      "предоставляет справки об отсутствии\n",
      "судимостей и свидетельство о браке, а\n",
      "все остальное делает работодатель.\n",
      "Позже необходимо предоставить пакет\n",
      "документов  для оформления визы в\n",
      "посольство и можно переезжать!\n",
      " Барселона - город в Испании, одной из\n",
      "лучших стран для переезда\n",
      "программиста \n",
      "Из плюсов: большая заработная плата и\n",
      "маленькая конкуренция. В Испании,\n",
      "несмотря на достойную оплату - в\n",
      "среднем 35 тысяч долларов в год,\n",
      "конкуренция среди IT-специалистов\n",
      "небольшая.\n",
      "ВЕНГРИЯ\n",
      "В Будапеште прочно основались офисы\n",
      "таких знаменитых ИТ-компаний как\n",
      "Microsoft, Google, IBM, Hewlett-Packard (HP), Prezi, а сфера\n",
      "информационных технологий занимает 10%\n",
      "ВВП. Поэтому при выборе страны для\n",
      "переезда, программисту стоит обратить\n",
      "внимание и на Венгрию. Касательно\n",
      "заработка: в среднем доход\n",
      "программиста может составлять 485 000\n",
      "форинтов (120 000 рублей).\n",
      "ШВЕЙЦАРИЯ\n",
      "Мы не зря включили Швейцарию в ТОП\n",
      "стран для программистов. На данный\n",
      "момент Цюрих входит в ТОП 20\n",
      "технологических городов будущего.\n",
      "Однако получить работу в местных\n",
      "компаниях может оказаться не так\n",
      "просто. Здесь предпочтение отдается\n",
      "специалистам, имеющим гражданство в\n",
      "странах EC и EFTA (страны ЕС + Швейцария\n",
      "Лихтенштейн и Норвегия). И только\n",
      "после того, как будет доказано, что\n",
      "необходимый специалист не был найден\n",
      "в странах ЕС и EFTA, Швейцарские\n",
      "компании имеют право привлечь\n",
      "сотрудника из России.\n",
      " Средний годовой доход программиста\n",
      "при переезде в Швейцарию \n",
      "ВЕЛИКОБРИТАНИЯ\n",
      "Туманный Альбион тоже не отстает от\n",
      "других — Лондон и Дублин занимают\n",
      "далеко не последние позиции в\n",
      "рейтинге технологических городов\n",
      "будущего. По сравнению со своими\n",
      "европейскими соседями,\n",
      "Великобритания лидирует в рейтинге по\n",
      "развитию ИТ сферы среди стран\n",
      "Западной Европы.\n",
      "Если сравнить зарплаты программистов\n",
      "в разных странах, то и тут Соединенное\n",
      "Королевство показывает хорошие\n",
      "результаты: сегодня разработчики со\n",
      "стажем три – пять лет могут получать\n",
      "45–80 тыс. фунтов стерлингов ежегодно. А\n",
      "специалисты, работающие в ИТ свыше\n",
      "пяти лет, могут получать 65–120 тыс.\n",
      "фунтов в год.\n",
      "НИДЕРЛАНДЫ\n",
      "С развитием глобальных\n",
      "информационных технологий растет и\n",
      "спрос на специалистов этого профиля. В\n",
      "Нидерландах количество рабочих мест,\n",
      "связанных с ИТ сферой, насчитывает\n",
      "более 70 000 позиций, а заработная плата\n",
      "для программистов, решившихся на\n",
      "переезд, варьируется от 50 до 60 тысяч\n",
      "евро в год.\n",
      "Однако при релокации программиста в\n",
      "другую страну могут всплыть некоторые\n",
      "подводные камни. Например, в случае\n",
      "если программист планирует получить\n",
      "предложение о работе от компании в\n",
      "Нидерландах, сначала она должна\n",
      "должна зарегистрироваться в списке\n",
      "аккредитованных спонсоров\n",
      "миграционного подразделения местного\n",
      "Министерства Юстиции, а доход\n",
      "сотрудника должен превышать\n",
      "установленные миграционной службой\n",
      "значения.\n",
      "ГЕРМАНИЯ\n",
      "Стабильная экономика, возможность\n",
      "получить вид на жительство и огромное\n",
      "количество вакансий в сфере\n",
      "информационных технологий делают\n",
      "Германию одной из самых популярных\n",
      "стран для стран для IT-специалистов.\n",
      "Сейчас в Германии наблюдается\n",
      "нехватка специалистов ИТ-сферы, и\n",
      "именно поэтому была разработана\n",
      "программа профессиональной\n",
      "иммиграции для специалистов с\n",
      "профильным образованием.\n",
      " Зарплаты программистов в разных\n",
      "городах Германии \n",
      "Для получения вида на жительство\n",
      "необходимо предоставить диплом об\n",
      "образовании или документ,\n",
      "подтверждающий стаж работы не менее\n",
      "трех лет.\n",
      "СОЕДИНЕННЫЕ ШТАТЫ АМЕРИКИ\n",
      "Когда мы говорим об ИТ сфере, первая\n",
      "ассоциация, которая приходит в голову\n",
      "— США. Действительно, Соединенные\n",
      "Штаты славятся своими IT компаниями:\n",
      "Apple, Microsoft , NVIDIA , Adobe, Cisco System и многие\n",
      "другие уже давно имеют свои офисы на\n",
      "территории Америки. Сегодня можно\n",
      "подавать документы на рабочую визу\n",
      "двух типов: H1-B — рабочая виза США или\n",
      "L-1 — рабочая виза, используемая для\n",
      "перевода из зарубежного филиала в\n",
      "офис в США.\n",
      " Статуя Свободы в США - лидера в списке\n",
      "ТОП-стран для программистов \n",
      "Если сравнивать уровни зарплат\n",
      "программистов в разных странах, то,\n",
      "несомненно, США лидируют с заметным\n",
      "отрывом. Средние суммы для\n",
      "специалиста с опытом работы более 5\n",
      "лет достигают 200 тысяч долларов в год.\n",
      "МЫ ПРЕДЛАГАЕМ КУРСЫ ДЛЯ ПРОГРАММИСТОВ\n",
      "С ПЕРСПЕКТИВОЙ ПЕРЕЕЗДА\n",
      "В DL Academy мы предоставляем возможность\n",
      "освоить профессии ИТ сферы разных\n",
      "направлений: курсы Frontend разработки,\n",
      "курсы Backend разработки и обучение SEO\n",
      "специалистов. Мы предлагаем лучшим\n",
      "студентам возможность пройти\n",
      "стажировку с дальнейшей перспективой\n",
      "трудоустройства и перевода в один из\n",
      "офисов нашей ИТ-компании в США. [{'source': 'Internet'}]\n",
      "* Сегодня мы расскажем о 10 лучших\n",
      "странах для проживания программистов.\n",
      "РЕЙТИНГ ЛУЧШИХ СТРАН ДЛЯ РАБОТЫ\n",
      "ПРОГРАММИСТОМ\n",
      "КИТАЙ\n",
      "Население современного Китая почти\n",
      "достигает цифры в 1,5 миллиарда\n",
      "человек, поэтому совсем не\n",
      "удивительно, что именно жители этого\n",
      "государства составляют бОльшую часть\n",
      "интернет пользователей мира. Рынок\n",
      "различных гаджетов каждый год\n",
      "пополняется новинками, но вот\n",
      "ИТ-разработчики в Китае — главный\n",
      "дефицит.\n",
      " город в Китае - одной из топовых стран\n",
      "для переезда программиста \n",
      "Для переезда программисту необходимо\n",
      "получить приглашение от будущего\n",
      "работодателя и оформить разрешение на\n",
      "работу по рабочей визе класса Z.\n",
      "АВСТРАЛИЯ\n",
      "В Австралии находятся\n",
      "представительства таких крупных\n",
      "IT-компаний как Facebook, Google, Amazon, Microsoft,\n",
      "поэтому становится понятно, что и на\n",
      "этом далеком материке можно найти\n",
      "что-то интересное.\n",
      "Для оформления визы и переезда, it\n",
      "специалисту необходимо:\n",
      "      подтвердить опыт работы;  \n",
      "      сдать языковой экзамен IELTS;  \n",
      "      пройти медобследование;  \n",
      "      предоставить справку об отсутствии\n",
      "судимостей; \n",
      "      оформить медстраховку. \n",
      " Уровень зарплат программистов в\n",
      "Австралии  \n",
      "КИПР\n",
      "Кипр также входит в наш рейтинг лучших\n",
      "стран для it специалистов. По версии\n",
      "журнала CeoWorld, по уровню жизни Кипр\n",
      "опережает такие страны как Мальта,\n",
      "Китай и Греция.\n",
      "Если программист принял решение\n",
      "переехать на Кипр, нужно лишь получить\n",
      "предложение о работе и собрать\n",
      "необходимые документы. В этот\n",
      "перечень входят:\n",
      "      внутренний и заграничный паспорта; \n",
      "      диплом об образовании;  \n",
      "      резюме на английском языке; \n",
      "      справка об отсутствии судимостей. \n",
      "ИСПАНИЯ\n",
      "Процесс эмиграции программиста в\n",
      "Испанию прост — сотрудник\n",
      "предоставляет справки об отсутствии\n",
      "судимостей и свидетельство о браке, а\n",
      "все остальное делает работодатель.\n",
      "Позже необходимо предоставить пакет\n",
      "документов  для оформления визы в\n",
      "посольство и можно переезжать!\n",
      " Барселона - город в Испании, одной из\n",
      "лучших стран для переезда\n",
      "программиста \n",
      "Из плюсов: большая заработная плата и\n",
      "маленькая конкуренция. В Испании,\n",
      "несмотря на достойную оплату - в\n",
      "среднем 35 тысяч долларов в год,\n",
      "конкуренция среди IT-специалистов\n",
      "небольшая.\n",
      "ВЕНГРИЯ\n",
      "В Будапеште прочно основались офисы\n",
      "таких знаменитых ИТ-компаний как\n",
      "Microsoft, Google, IBM, Hewlett-Packard (HP), Prezi, а сфера\n",
      "информационных технологий занимает 10%\n",
      "ВВП. Поэтому при выборе страны для\n",
      "переезда, программисту стоит обратить\n",
      "внимание и на Венгрию. Касательно\n",
      "заработка: в среднем доход\n",
      "программиста может составлять 485 000\n",
      "форинтов (120 000 рублей).\n",
      "ШВЕЙЦАРИЯ\n",
      "Мы не зря включили Швейцарию в ТОП\n",
      "стран для программистов. На данный\n",
      "момент Цюрих входит в ТОП 20\n",
      "технологических городов будущего.\n",
      "Однако получить работу в местных\n",
      "компаниях может оказаться не так\n",
      "просто. Здесь предпочтение отдается\n",
      "специалистам, имеющим гражданство в\n",
      "странах EC и EFTA (страны ЕС + Швейцария\n",
      "Лихтенштейн и Норвегия). И только\n",
      "после того, как будет доказано, что\n",
      "необходимый специалист не был найден\n",
      "в странах ЕС и EFTA, Швейцарские\n",
      "компании имеют право привлечь\n",
      "сотрудника из России.\n",
      " Средний годовой доход программиста\n",
      "при переезде в Швейцарию \n",
      "ВЕЛИКОБРИТАНИЯ\n",
      "Туманный Альбион тоже не отстает от\n",
      "других — Лондон и Дублин занимают\n",
      "далеко не последние позиции в\n",
      "рейтинге технологических городов\n",
      "будущего. По сравнению со своими\n",
      "европейскими соседями,\n",
      "Великобритания лидирует в рейтинге по\n",
      "развитию ИТ сферы среди стран\n",
      "Западной Европы.\n",
      "Если сравнить зарплаты программистов\n",
      "в разных странах, то и тут Соединенное\n",
      "Королевство показывает хорошие\n",
      "результаты: сегодня разработчики со\n",
      "стажем три – пять лет могут получать\n",
      "45–80 тыс. фунтов стерлингов ежегодно. А\n",
      "специалисты, работающие в ИТ свыше\n",
      "пяти лет, могут получать 65–120 тыс.\n",
      "фунтов в год.\n",
      "НИДЕРЛАНДЫ\n",
      "С развитием глобальных\n",
      "информационных технологий растет и\n",
      "спрос на специалистов этого профиля. В\n",
      "Нидерландах количество рабочих мест,\n",
      "связанных с ИТ сферой, насчитывает\n",
      "более 70 000 позиций, а заработная плата\n",
      "для программистов, решившихся на\n",
      "переезд, варьируется от 50 до 60 тысяч\n",
      "евро в год.\n",
      "Однако при релокации программиста в\n",
      "другую страну могут всплыть некоторые\n",
      "подводные камни. Например, в случае\n",
      "если программист планирует получить\n",
      "предложение о работе от компании в\n",
      "Нидерландах, сначала она должна\n",
      "должна зарегистрироваться в списке\n",
      "аккредитованных спонсоров\n",
      "миграционного подразделения местного\n",
      "Министерства Юстиции, а доход\n",
      "сотрудника должен превышать\n",
      "установленные миграционной службой\n",
      "значения.\n",
      "ГЕРМАНИЯ\n",
      "Стабильная экономика, возможность\n",
      "получить вид на жительство и огромное\n",
      "количество вакансий в сфере\n",
      "информационных технологий делают\n",
      "Германию одной из самых популярных\n",
      "стран для стран для IT-специалистов.\n",
      "Сейчас в Германии наблюдается\n",
      "нехватка специалистов ИТ-сферы, и\n",
      "именно поэтому была разработана\n",
      "программа профессиональной\n",
      "иммиграции для специалистов с\n",
      "профильным образованием.\n",
      " Зарплаты программистов в разных\n",
      "городах Германии \n",
      "Для получения вида на жительство\n",
      "необходимо предоставить диплом об\n",
      "образовании или документ,\n",
      "подтверждающий стаж работы не менее\n",
      "трех лет.\n",
      "СОЕДИНЕННЫЕ ШТАТЫ АМЕРИКИ\n",
      "Когда мы говорим об ИТ сфере, первая\n",
      "ассоциация, которая приходит в голову\n",
      "— США. Действительно, Соединенные\n",
      "Штаты славятся своими IT компаниями:\n",
      "Apple, Microsoft , NVIDIA , Adobe, Cisco System и многие\n",
      "другие уже давно имеют свои офисы на\n",
      "территории Америки. Сегодня можно\n",
      "подавать документы на рабочую визу\n",
      "двух типов: H1-B — рабочая виза США или\n",
      "L-1 — рабочая виза, используемая для\n",
      "перевода из зарубежного филиала в\n",
      "офис в США.\n",
      " Статуя Свободы в США - лидера в списке\n",
      "ТОП-стран для программистов \n",
      "Если сравнивать уровни зарплат\n",
      "программистов в разных странах, то,\n",
      "несомненно, США лидируют с заметным\n",
      "отрывом. Средние суммы для\n",
      "специалиста с опытом работы более 5\n",
      "лет достигают 200 тысяч долларов в год.\n",
      "МЫ ПРЕДЛАГАЕМ КУРСЫ ДЛЯ ПРОГРАММИСТОВ\n",
      "С ПЕРСПЕКТИВОЙ ПЕРЕЕЗДА\n",
      "В DL Academy мы предоставляем возможность\n",
      "освоить профессии ИТ сферы разных\n",
      "направлений: курсы Frontend разработки,\n",
      "курсы Backend разработки и обучение SEO\n",
      "специалистов. Мы предлагаем лучшим\n",
      "студентам возможность пройти\n",
      "стажировку с дальнейшей перспективой\n",
      "трудоустройства и перевода в один из\n",
      "офисов нашей ИТ-компании в США. [{'source': 'Internet'}]\n",
      "* Сегодня мы расскажем о 10 лучших\n",
      "странах для проживания программистов.\n",
      "РЕЙТИНГ ЛУЧШИХ СТРАН ДЛЯ РАБОТЫ\n",
      "ПРОГРАММИСТОМ\n",
      "КИТАЙ\n",
      "Население современного Китая почти\n",
      "достигает цифры в 1,5 миллиарда\n",
      "человек, поэтому совсем не\n",
      "удивительно, что именно жители этого\n",
      "государства составляют бОльшую часть\n",
      "интернет пользователей мира. Рынок\n",
      "различных гаджетов каждый год\n",
      "пополняется новинками, но вот\n",
      "ИТ-разработчики в Китае — главный\n",
      "дефицит.\n",
      " город в Китае - одной из топовых стран\n",
      "для переезда программиста \n",
      "Для переезда программисту необходимо\n",
      "получить приглашение от будущего\n",
      "работодателя и оформить разрешение на\n",
      "работу по рабочей визе класса Z.\n",
      "АВСТРАЛИЯ\n",
      "В Австралии находятся\n",
      "представительства таких крупных\n",
      "IT-компаний как Facebook, Google, Amazon, Microsoft,\n",
      "поэтому становится понятно, что и на\n",
      "этом далеком материке можно найти\n",
      "что-то интересное.\n",
      "Для оформления визы и переезда, it\n",
      "специалисту необходимо:\n",
      "      подтвердить опыт работы;  \n",
      "      сдать языковой экзамен IELTS;  \n",
      "      пройти медобследование;  \n",
      "      предоставить справку об отсутствии\n",
      "судимостей; \n",
      "      оформить медстраховку. \n",
      " Уровень зарплат программистов в\n",
      "Австралии  \n",
      "КИПР\n",
      "Кипр также входит в наш рейтинг лучших\n",
      "стран для it специалистов. По версии\n",
      "журнала CeoWorld, по уровню жизни Кипр\n",
      "опережает такие страны как Мальта,\n",
      "Китай и Греция.\n",
      "Если программист принял решение\n",
      "переехать на Кипр, нужно лишь получить\n",
      "предложение о работе и собрать\n",
      "необходимые документы. В этот\n",
      "перечень входят:\n",
      "      внутренний и заграничный паспорта; \n",
      "      диплом об образовании;  \n",
      "      резюме на английском языке; \n",
      "      справка об отсутствии судимостей. \n",
      "ИСПАНИЯ\n",
      "Процесс эмиграции программиста в\n",
      "Испанию прост — сотрудник\n",
      "предоставляет справки об отсутствии\n",
      "судимостей и свидетельство о браке, а\n",
      "все остальное делает работодатель.\n",
      "Позже необходимо предоставить пакет\n",
      "документов  для оформления визы в\n",
      "посольство и можно переезжать!\n",
      " Барселона - город в Испании, одной из\n",
      "лучших стран для переезда\n",
      "программиста \n",
      "Из плюсов: большая заработная плата и\n",
      "маленькая конкуренция. В Испании,\n",
      "несмотря на достойную оплату - в\n",
      "среднем 35 тысяч долларов в год,\n",
      "конкуренция среди IT-специалистов\n",
      "небольшая.\n",
      "ВЕНГРИЯ\n",
      "В Будапеште прочно основались офисы\n",
      "таких знаменитых ИТ-компаний как\n",
      "Microsoft, Google, IBM, Hewlett-Packard (HP), Prezi, а сфера\n",
      "информационных технологий занимает 10%\n",
      "ВВП. Поэтому при выборе страны для\n",
      "переезда, программисту стоит обратить\n",
      "внимание и на Венгрию. Касательно\n",
      "заработка: в среднем доход\n",
      "программиста может составлять 485 000\n",
      "форинтов (120 000 рублей).\n",
      "ШВЕЙЦАРИЯ\n",
      "Мы не зря включили Швейцарию в ТОП\n",
      "стран для программистов. На данный\n",
      "момент Цюрих входит в ТОП 20\n",
      "технологических городов будущего.\n",
      "Однако получить работу в местных\n",
      "компаниях может оказаться не так\n",
      "просто. Здесь предпочтение отдается\n",
      "специалистам, имеющим гражданство в\n",
      "странах EC и EFTA (страны ЕС + Швейцария\n",
      "Лихтенштейн и Норвегия). И только\n",
      "после того, как будет доказано, что\n",
      "необходимый специалист не был найден\n",
      "в странах ЕС и EFTA, Швейцарские\n",
      "компании имеют право привлечь\n",
      "сотрудника из России.\n",
      " Средний годовой доход программиста\n",
      "при переезде в Швейцарию \n",
      "ВЕЛИКОБРИТАНИЯ\n",
      "Туманный Альбион тоже не отстает от\n",
      "других — Лондон и Дублин занимают\n",
      "далеко не последние позиции в\n",
      "рейтинге технологических городов\n",
      "будущего. По сравнению со своими\n",
      "европейскими соседями,\n",
      "Великобритания лидирует в рейтинге по\n",
      "развитию ИТ сферы среди стран\n",
      "Западной Европы.\n",
      "Если сравнить зарплаты программистов\n",
      "в разных странах, то и тут Соединенное\n",
      "Королевство показывает хорошие\n",
      "результаты: сегодня разработчики со\n",
      "стажем три – пять лет могут получать\n",
      "45–80 тыс. фунтов стерлингов ежегодно. А\n",
      "специалисты, работающие в ИТ свыше\n",
      "пяти лет, могут получать 65–120 тыс.\n",
      "фунтов в год.\n",
      "НИДЕРЛАНДЫ\n",
      "С развитием глобальных\n",
      "информационных технологий растет и\n",
      "спрос на специалистов этого профиля. В\n",
      "Нидерландах количество рабочих мест,\n",
      "связанных с ИТ сферой, насчитывает\n",
      "более 70 000 позиций, а заработная плата\n",
      "для программистов, решившихся на\n",
      "переезд, варьируется от 50 до 60 тысяч\n",
      "евро в год.\n",
      "Однако при релокации программиста в\n",
      "другую страну могут всплыть некоторые\n",
      "подводные камни. Например, в случае\n",
      "если программист планирует получить\n",
      "предложение о работе от компании в\n",
      "Нидерландах, сначала она должна\n",
      "должна зарегистрироваться в списке\n",
      "аккредитованных спонсоров\n",
      "миграционного подразделения местного\n",
      "Министерства Юстиции, а доход\n",
      "сотрудника должен превышать\n",
      "установленные миграционной службой\n",
      "значения.\n",
      "ГЕРМАНИЯ\n",
      "Стабильная экономика, возможность\n",
      "получить вид на жительство и огромное\n",
      "количество вакансий в сфере\n",
      "информационных технологий делают\n",
      "Германию одной из самых популярных\n",
      "стран для стран для IT-специалистов.\n",
      "Сейчас в Германии наблюдается\n",
      "нехватка специалистов ИТ-сферы, и\n",
      "именно поэтому была разработана\n",
      "программа профессиональной\n",
      "иммиграции для специалистов с\n",
      "профильным образованием.\n",
      " Зарплаты программистов в разных\n",
      "городах Германии \n",
      "Для получения вида на жительство\n",
      "необходимо предоставить диплом об\n",
      "образовании или документ,\n",
      "подтверждающий стаж работы не менее\n",
      "трех лет.\n",
      "СОЕДИНЕННЫЕ ШТАТЫ АМЕРИКИ\n",
      "Когда мы говорим об ИТ сфере, первая\n",
      "ассоциация, которая приходит в голову\n",
      "— США. Действительно, Соединенные\n",
      "Штаты славятся своими IT компаниями:\n",
      "Apple, Microsoft , NVIDIA , Adobe, Cisco System и многие\n",
      "другие уже давно имеют свои офисы на\n",
      "территории Америки. Сегодня можно\n",
      "подавать документы на рабочую визу\n",
      "двух типов: H1-B — рабочая виза США или\n",
      "L-1 — рабочая виза, используемая для\n",
      "перевода из зарубежного филиала в\n",
      "офис в США.\n",
      " Статуя Свободы в США - лидера в списке\n",
      "ТОП-стран для программистов \n",
      "Если сравнивать уровни зарплат\n",
      "программистов в разных странах, то,\n",
      "несомненно, США лидируют с заметным\n",
      "отрывом. Средние суммы для\n",
      "специалиста с опытом работы более 5\n",
      "лет достигают 200 тысяч долларов в год.\n",
      "МЫ ПРЕДЛАГАЕМ КУРСЫ ДЛЯ ПРОГРАММИСТОВ\n",
      "С ПЕРСПЕКТИВОЙ ПЕРЕЕЗДА\n",
      "В DL Academy мы предоставляем возможность\n",
      "освоить профессии ИТ сферы разных\n",
      "направлений: курсы Frontend разработки,\n",
      "курсы Backend разработки и обучение SEO\n",
      "специалистов. Мы предлагаем лучшим\n",
      "студентам возможность пройти\n",
      "стажировку с дальнейшей перспективой\n",
      "трудоустройства и перевода в один из\n",
      "офисов нашей ИТ-компании в США. [{'source': 'Internet'}]\n"
     ]
    }
   ],
   "source": [
    "results = vectorstore.similarity_search(\n",
    "    Question,\n",
    "    k=3,\n",
    ")\n",
    "for res in results:\n",
    "    print(f\"* {res.page_content} [{res.metadata}]\")"
   ]
  },
  {
   "cell_type": "code",
   "execution_count": 50,
   "metadata": {
    "execution": {
     "iopub.execute_input": "2024-12-26T00:31:51.520448Z",
     "iopub.status.busy": "2024-12-26T00:31:51.519994Z",
     "iopub.status.idle": "2024-12-26T00:31:51.572661Z",
     "shell.execute_reply": "2024-12-26T00:31:51.571013Z",
     "shell.execute_reply.started": "2024-12-26T00:31:51.520411Z"
    }
   },
   "outputs": [
    {
     "data": {
      "text/plain": [
       "[Document(metadata={'source': 'Internet'}, page_content='Сегодня мы расскажем о 10 лучших\\nстранах для проживания программистов.\\nРЕЙТИНГ ЛУЧШИХ СТРАН ДЛЯ РАБОТЫ\\nПРОГРАММИСТОМ\\nКИТАЙ\\nНаселение современного Китая почти\\nдостигает цифры в 1,5 миллиарда\\nчеловек, поэтому совсем не\\nудивительно, что именно жители этого\\nгосударства составляют бОльшую часть\\nинтернет пользователей мира. Рынок\\nразличных гаджетов каждый год\\nпополняется новинками, но вот\\nИТ-разработчики в Китае — главный\\nдефицит.\\n город в Китае - одной из топовых стран\\nдля переезда программиста \\nДля переезда программисту необходимо\\nполучить приглашение от будущего\\nработодателя и оформить разрешение на\\nработу по рабочей визе класса Z.\\nАВСТРАЛИЯ\\nВ Австралии находятся\\nпредставительства таких крупных\\nIT-компаний как Facebook, Google, Amazon, Microsoft,\\nпоэтому становится понятно, что и на\\nэтом далеком материке можно найти\\nчто-то интересное.\\nДля оформления визы и переезда, it\\nспециалисту необходимо:\\n      подтвердить опыт работы;  \\n      сдать языковой экзамен IELTS;  \\n      пройти медобследование;  \\n      предоставить справку об отсутствии\\nсудимостей; \\n      оформить медстраховку. \\n Уровень зарплат программистов в\\nАвстралии  \\nКИПР\\nКипр также входит в наш рейтинг лучших\\nстран для it специалистов. По версии\\nжурнала CeoWorld, по уровню жизни Кипр\\nопережает такие страны как Мальта,\\nКитай и Греция.\\nЕсли программист принял решение\\nпереехать на Кипр, нужно лишь получить\\nпредложение о работе и собрать\\nнеобходимые документы. В этот\\nперечень входят:\\n      внутренний и заграничный паспорта; \\n      диплом об образовании;  \\n      резюме на английском языке; \\n      справка об отсутствии судимостей. \\nИСПАНИЯ\\nПроцесс эмиграции программиста в\\nИспанию прост — сотрудник\\nпредоставляет справки об отсутствии\\nсудимостей и свидетельство о браке, а\\nвсе остальное делает работодатель.\\nПозже необходимо предоставить пакет\\nдокументов  для оформления визы в\\nпосольство и можно переезжать!\\n Барселона - город в Испании, одной из\\nлучших стран для переезда\\nпрограммиста \\nИз плюсов: большая заработная плата и\\nмаленькая конкуренция. В Испании,\\nнесмотря на достойную оплату - в\\nсреднем 35 тысяч долларов в год,\\nконкуренция среди IT-специалистов\\nнебольшая.\\nВЕНГРИЯ\\nВ Будапеште прочно основались офисы\\nтаких знаменитых ИТ-компаний как\\nMicrosoft, Google, IBM, Hewlett-Packard (HP), Prezi, а сфера\\nинформационных технологий занимает 10%\\nВВП. Поэтому при выборе страны для\\nпереезда, программисту стоит обратить\\nвнимание и на Венгрию. Касательно\\nзаработка: в среднем доход\\nпрограммиста может составлять 485 000\\nфоринтов (120 000 рублей).\\nШВЕЙЦАРИЯ\\nМы не зря включили Швейцарию в ТОП\\nстран для программистов. На данный\\nмомент Цюрих входит в ТОП 20\\nтехнологических городов будущего.\\nОднако получить работу в местных\\nкомпаниях может оказаться не так\\nпросто. Здесь предпочтение отдается\\nспециалистам, имеющим гражданство в\\nстранах EC и EFTA (страны ЕС + Швейцария\\nЛихтенштейн и Норвегия). И только\\nпосле того, как будет доказано, что\\nнеобходимый специалист не был найден\\nв странах ЕС и EFTA, Швейцарские\\nкомпании имеют право привлечь\\nсотрудника из России.\\n Средний годовой доход программиста\\nпри переезде в Швейцарию \\nВЕЛИКОБРИТАНИЯ\\nТуманный Альбион тоже не отстает от\\nдругих — Лондон и Дублин занимают\\nдалеко не последние позиции в\\nрейтинге технологических городов\\nбудущего. По сравнению со своими\\nевропейскими соседями,\\nВеликобритания лидирует в рейтинге по\\nразвитию ИТ сферы среди стран\\nЗападной Европы.\\nЕсли сравнить зарплаты программистов\\nв разных странах, то и тут Соединенное\\nКоролевство показывает хорошие\\nрезультаты: сегодня разработчики со\\nстажем три – пять лет могут получать\\n45–80 тыс. фунтов стерлингов ежегодно. А\\nспециалисты, работающие в ИТ свыше\\nпяти лет, могут получать 65–120 тыс.\\nфунтов в год.\\nНИДЕРЛАНДЫ\\nС развитием глобальных\\nинформационных технологий растет и\\nспрос на специалистов этого профиля. В\\nНидерландах количество рабочих мест,\\nсвязанных с ИТ сферой, насчитывает\\nболее 70 000 позиций, а заработная плата\\nдля программистов, решившихся на\\nпереезд, варьируется от 50 до 60 тысяч\\nевро в год.\\nОднако при релокации программиста в\\nдругую страну могут всплыть некоторые\\nподводные камни. Например, в случае\\nесли программист планирует получить\\nпредложение о работе от компании в\\nНидерландах, сначала она должна\\nдолжна зарегистрироваться в списке\\nаккредитованных спонсоров\\nмиграционного подразделения местного\\nМинистерства Юстиции, а доход\\nсотрудника должен превышать\\nустановленные миграционной службой\\nзначения.\\nГЕРМАНИЯ\\nСтабильная экономика, возможность\\nполучить вид на жительство и огромное\\nколичество вакансий в сфере\\nинформационных технологий делают\\nГерманию одной из самых популярных\\nстран для стран для IT-специалистов.\\nСейчас в Германии наблюдается\\nнехватка специалистов ИТ-сферы, и\\nименно поэтому была разработана\\nпрограмма профессиональной\\nиммиграции для специалистов с\\nпрофильным образованием.\\n Зарплаты программистов в разных\\nгородах Германии \\nДля получения вида на жительство\\nнеобходимо предоставить диплом об\\nобразовании или документ,\\nподтверждающий стаж работы не менее\\nтрех лет.\\nСОЕДИНЕННЫЕ ШТАТЫ АМЕРИКИ\\nКогда мы говорим об ИТ сфере, первая\\nассоциация, которая приходит в голову\\n— США. Действительно, Соединенные\\nШтаты славятся своими IT компаниями:\\nApple, Microsoft , NVIDIA , Adobe, Cisco System и многие\\nдругие уже давно имеют свои офисы на\\nтерритории Америки. Сегодня можно\\nподавать документы на рабочую визу\\nдвух типов: H1-B — рабочая виза США или\\nL-1 — рабочая виза, используемая для\\nперевода из зарубежного филиала в\\nофис в США.\\n Статуя Свободы в США - лидера в списке\\nТОП-стран для программистов \\nЕсли сравнивать уровни зарплат\\nпрограммистов в разных странах, то,\\nнесомненно, США лидируют с заметным\\nотрывом. Средние суммы для\\nспециалиста с опытом работы более 5\\nлет достигают 200 тысяч долларов в год.\\nМЫ ПРЕДЛАГАЕМ КУРСЫ ДЛЯ ПРОГРАММИСТОВ\\nС ПЕРСПЕКТИВОЙ ПЕРЕЕЗДА\\nВ DL Academy мы предоставляем возможность\\nосвоить профессии ИТ сферы разных\\nнаправлений: курсы Frontend разработки,\\nкурсы Backend разработки и обучение SEO\\nспециалистов. Мы предлагаем лучшим\\nстудентам возможность пройти\\nстажировку с дальнейшей перспективой\\nтрудоустройства и перевода в один из\\nофисов нашей ИТ-компании в США.'),\n",
       " Document(metadata={'source': 'Internet'}, page_content='Сегодня мы расскажем о 10 лучших\\nстранах для проживания программистов.\\nРЕЙТИНГ ЛУЧШИХ СТРАН ДЛЯ РАБОТЫ\\nПРОГРАММИСТОМ\\nКИТАЙ\\nНаселение современного Китая почти\\nдостигает цифры в 1,5 миллиарда\\nчеловек, поэтому совсем не\\nудивительно, что именно жители этого\\nгосударства составляют бОльшую часть\\nинтернет пользователей мира. Рынок\\nразличных гаджетов каждый год\\nпополняется новинками, но вот\\nИТ-разработчики в Китае — главный\\nдефицит.\\n город в Китае - одной из топовых стран\\nдля переезда программиста \\nДля переезда программисту необходимо\\nполучить приглашение от будущего\\nработодателя и оформить разрешение на\\nработу по рабочей визе класса Z.\\nАВСТРАЛИЯ\\nВ Австралии находятся\\nпредставительства таких крупных\\nIT-компаний как Facebook, Google, Amazon, Microsoft,\\nпоэтому становится понятно, что и на\\nэтом далеком материке можно найти\\nчто-то интересное.\\nДля оформления визы и переезда, it\\nспециалисту необходимо:\\n      подтвердить опыт работы;  \\n      сдать языковой экзамен IELTS;  \\n      пройти медобследование;  \\n      предоставить справку об отсутствии\\nсудимостей; \\n      оформить медстраховку. \\n Уровень зарплат программистов в\\nАвстралии  \\nКИПР\\nКипр также входит в наш рейтинг лучших\\nстран для it специалистов. По версии\\nжурнала CeoWorld, по уровню жизни Кипр\\nопережает такие страны как Мальта,\\nКитай и Греция.\\nЕсли программист принял решение\\nпереехать на Кипр, нужно лишь получить\\nпредложение о работе и собрать\\nнеобходимые документы. В этот\\nперечень входят:\\n      внутренний и заграничный паспорта; \\n      диплом об образовании;  \\n      резюме на английском языке; \\n      справка об отсутствии судимостей. \\nИСПАНИЯ\\nПроцесс эмиграции программиста в\\nИспанию прост — сотрудник\\nпредоставляет справки об отсутствии\\nсудимостей и свидетельство о браке, а\\nвсе остальное делает работодатель.\\nПозже необходимо предоставить пакет\\nдокументов  для оформления визы в\\nпосольство и можно переезжать!\\n Барселона - город в Испании, одной из\\nлучших стран для переезда\\nпрограммиста \\nИз плюсов: большая заработная плата и\\nмаленькая конкуренция. В Испании,\\nнесмотря на достойную оплату - в\\nсреднем 35 тысяч долларов в год,\\nконкуренция среди IT-специалистов\\nнебольшая.\\nВЕНГРИЯ\\nВ Будапеште прочно основались офисы\\nтаких знаменитых ИТ-компаний как\\nMicrosoft, Google, IBM, Hewlett-Packard (HP), Prezi, а сфера\\nинформационных технологий занимает 10%\\nВВП. Поэтому при выборе страны для\\nпереезда, программисту стоит обратить\\nвнимание и на Венгрию. Касательно\\nзаработка: в среднем доход\\nпрограммиста может составлять 485 000\\nфоринтов (120 000 рублей).\\nШВЕЙЦАРИЯ\\nМы не зря включили Швейцарию в ТОП\\nстран для программистов. На данный\\nмомент Цюрих входит в ТОП 20\\nтехнологических городов будущего.\\nОднако получить работу в местных\\nкомпаниях может оказаться не так\\nпросто. Здесь предпочтение отдается\\nспециалистам, имеющим гражданство в\\nстранах EC и EFTA (страны ЕС + Швейцария\\nЛихтенштейн и Норвегия). И только\\nпосле того, как будет доказано, что\\nнеобходимый специалист не был найден\\nв странах ЕС и EFTA, Швейцарские\\nкомпании имеют право привлечь\\nсотрудника из России.\\n Средний годовой доход программиста\\nпри переезде в Швейцарию \\nВЕЛИКОБРИТАНИЯ\\nТуманный Альбион тоже не отстает от\\nдругих — Лондон и Дублин занимают\\nдалеко не последние позиции в\\nрейтинге технологических городов\\nбудущего. По сравнению со своими\\nевропейскими соседями,\\nВеликобритания лидирует в рейтинге по\\nразвитию ИТ сферы среди стран\\nЗападной Европы.\\nЕсли сравнить зарплаты программистов\\nв разных странах, то и тут Соединенное\\nКоролевство показывает хорошие\\nрезультаты: сегодня разработчики со\\nстажем три – пять лет могут получать\\n45–80 тыс. фунтов стерлингов ежегодно. А\\nспециалисты, работающие в ИТ свыше\\nпяти лет, могут получать 65–120 тыс.\\nфунтов в год.\\nНИДЕРЛАНДЫ\\nС развитием глобальных\\nинформационных технологий растет и\\nспрос на специалистов этого профиля. В\\nНидерландах количество рабочих мест,\\nсвязанных с ИТ сферой, насчитывает\\nболее 70 000 позиций, а заработная плата\\nдля программистов, решившихся на\\nпереезд, варьируется от 50 до 60 тысяч\\nевро в год.\\nОднако при релокации программиста в\\nдругую страну могут всплыть некоторые\\nподводные камни. Например, в случае\\nесли программист планирует получить\\nпредложение о работе от компании в\\nНидерландах, сначала она должна\\nдолжна зарегистрироваться в списке\\nаккредитованных спонсоров\\nмиграционного подразделения местного\\nМинистерства Юстиции, а доход\\nсотрудника должен превышать\\nустановленные миграционной службой\\nзначения.\\nГЕРМАНИЯ\\nСтабильная экономика, возможность\\nполучить вид на жительство и огромное\\nколичество вакансий в сфере\\nинформационных технологий делают\\nГерманию одной из самых популярных\\nстран для стран для IT-специалистов.\\nСейчас в Германии наблюдается\\nнехватка специалистов ИТ-сферы, и\\nименно поэтому была разработана\\nпрограмма профессиональной\\nиммиграции для специалистов с\\nпрофильным образованием.\\n Зарплаты программистов в разных\\nгородах Германии \\nДля получения вида на жительство\\nнеобходимо предоставить диплом об\\nобразовании или документ,\\nподтверждающий стаж работы не менее\\nтрех лет.\\nСОЕДИНЕННЫЕ ШТАТЫ АМЕРИКИ\\nКогда мы говорим об ИТ сфере, первая\\nассоциация, которая приходит в голову\\n— США. Действительно, Соединенные\\nШтаты славятся своими IT компаниями:\\nApple, Microsoft , NVIDIA , Adobe, Cisco System и многие\\nдругие уже давно имеют свои офисы на\\nтерритории Америки. Сегодня можно\\nподавать документы на рабочую визу\\nдвух типов: H1-B — рабочая виза США или\\nL-1 — рабочая виза, используемая для\\nперевода из зарубежного филиала в\\nофис в США.\\n Статуя Свободы в США - лидера в списке\\nТОП-стран для программистов \\nЕсли сравнивать уровни зарплат\\nпрограммистов в разных странах, то,\\nнесомненно, США лидируют с заметным\\nотрывом. Средние суммы для\\nспециалиста с опытом работы более 5\\nлет достигают 200 тысяч долларов в год.\\nМЫ ПРЕДЛАГАЕМ КУРСЫ ДЛЯ ПРОГРАММИСТОВ\\nС ПЕРСПЕКТИВОЙ ПЕРЕЕЗДА\\nВ DL Academy мы предоставляем возможность\\nосвоить профессии ИТ сферы разных\\nнаправлений: курсы Frontend разработки,\\nкурсы Backend разработки и обучение SEO\\nспециалистов. Мы предлагаем лучшим\\nстудентам возможность пройти\\nстажировку с дальнейшей перспективой\\nтрудоустройства и перевода в один из\\nофисов нашей ИТ-компании в США.')]"
      ]
     },
     "execution_count": 50,
     "metadata": {},
     "output_type": "execute_result"
    }
   ],
   "source": [
    "docs = retriever.get_relevant_documents(question, k=2)\n",
    "docs"
   ]
  },
  {
   "cell_type": "markdown",
   "metadata": {},
   "source": [
    "# 3. Multi-query"
   ]
  },
  {
   "cell_type": "code",
   "execution_count": 52,
   "metadata": {
    "execution": {
     "iopub.execute_input": "2024-12-26T00:32:46.375313Z",
     "iopub.status.busy": "2024-12-26T00:32:46.374976Z",
     "iopub.status.idle": "2024-12-26T00:32:46.382567Z",
     "shell.execute_reply": "2024-12-26T00:32:46.381257Z",
     "shell.execute_reply.started": "2024-12-26T00:32:46.375287Z"
    }
   },
   "outputs": [],
   "source": [
    "from langchain.prompts import ChatPromptTemplate\n",
    "\n",
    "template = \"\"\"You are an AI language model assistant. Your task is to generate four\n",
    "different versions of the given user question to retrieve relevant documents from a vector \n",
    "database. By generating multiple perspectives on the user question, your goal is to help\n",
    "the user overcome some of the limitations of the distance-based similarity search. \n",
    "Provide these alternative questions separated by newlines. Original question: {question}\"\"\"\n",
    "prompt_perspectives = ChatPromptTemplate.from_template(template)\n",
    "\n",
    "from langchain_core.output_parsers import StrOutputParser\n",
    "from langchain_openai import ChatOpenAI\n",
    "\n",
    "generate_queries = (\n",
    "    prompt_perspectives \n",
    "    | llm\n",
    "    | StrOutputParser() \n",
    "    | (lambda x: x.split(\"\\n\"))\n",
    ")"
   ]
  },
  {
   "cell_type": "code",
   "execution_count": 53,
   "metadata": {
    "execution": {
     "iopub.execute_input": "2024-12-26T00:33:06.256545Z",
     "iopub.status.busy": "2024-12-26T00:33:06.256086Z",
     "iopub.status.idle": "2024-12-26T00:33:07.666624Z",
     "shell.execute_reply": "2024-12-26T00:33:07.665509Z",
     "shell.execute_reply.started": "2024-12-26T00:33:06.256511Z"
    }
   },
   "outputs": [
    {
     "data": {
      "text/plain": [
       "['1. Какой европейский город лучше всего подходит для инженеров машинного обучения, и какие факторы стоит учитывать при выборе места для переезда?',\n",
       " '',\n",
       " '2. Какие страны в Европе предлагают наилучшие возможности для карьерного роста в области машинного обучения, и почему именно они?',\n",
       " '',\n",
       " '3. Где в Европе сосредоточены ведущие компании и стартапы в сфере машинного обучения, и какие преимущества они предлагают для специалистов?',\n",
       " '',\n",
       " '4. Какие аспекты жизни и работы в Европе могут быть привлекательны для инженера машинного обучения, рассматривающего переезд?']"
      ]
     },
     "execution_count": 53,
     "metadata": {},
     "output_type": "execute_result"
    }
   ],
   "source": [
    "generate_queries.invoke({\"question\":question})"
   ]
  },
  {
   "cell_type": "code",
   "execution_count": 54,
   "metadata": {
    "execution": {
     "iopub.execute_input": "2024-12-26T00:33:28.685111Z",
     "iopub.status.busy": "2024-12-26T00:33:28.684679Z",
     "iopub.status.idle": "2024-12-26T00:33:30.300440Z",
     "shell.execute_reply": "2024-12-26T00:33:30.298954Z",
     "shell.execute_reply.started": "2024-12-26T00:33:28.685079Z"
    }
   },
   "outputs": [
    {
     "name": "stderr",
     "output_type": "stream",
     "text": [
      "<ipython-input-54-9c4721758787>:7: LangChainBetaWarning: The function `loads` is in beta. It is actively being worked on, so the API may change.\n",
      "  return [loads(doc) for doc in unique_docs]\n"
     ]
    },
    {
     "data": {
      "text/plain": [
       "3"
      ]
     },
     "execution_count": 54,
     "metadata": {},
     "output_type": "execute_result"
    }
   ],
   "source": [
    "from langchain.load import dumps, loads\n",
    "\n",
    "def get_unique_union(documents: list[list]):\n",
    "    \"\"\" Unique union of retrieved docs \"\"\"\n",
    "    flattened_docs = [dumps(doc) for sublist in documents for doc in sublist]\n",
    "    unique_docs = list(set(flattened_docs))\n",
    "    return [loads(doc) for doc in unique_docs]\n",
    "\n",
    "retrieval_chain = generate_queries | retriever.map() | get_unique_union\n",
    "docs = retrieval_chain.invoke({\"question\":question})\n",
    "len(docs)"
   ]
  },
  {
   "cell_type": "code",
   "execution_count": 55,
   "metadata": {
    "execution": {
     "iopub.execute_input": "2024-12-26T00:33:39.948258Z",
     "iopub.status.busy": "2024-12-26T00:33:39.947792Z",
     "iopub.status.idle": "2024-12-26T00:34:00.308904Z",
     "shell.execute_reply": "2024-12-26T00:34:00.306835Z",
     "shell.execute_reply.started": "2024-12-26T00:33:39.948218Z"
    }
   },
   "outputs": [
    {
     "ename": "RateLimitError",
     "evalue": "Error code: 429 - {'error': {'message': 'Rate limit reached for gpt-4o-mini in organization org-NH30TT9NqHCsz62f6iFkxbuj on tokens per min (TPM): Limit 100000, Used 78223, Requested 38956. Please try again in 123h41m19.68s. Visit https://platform.openai.com/account/rate-limits to learn more. You can increase your rate limit by adding a payment method to your account at https://platform.openai.com/account/billing.', 'type': 'tokens', 'param': None, 'code': 'rate_limit_exceeded'}}",
     "output_type": "error",
     "traceback": [
      "\u001b[0;31m---------------------------------------------------------------------------\u001b[0m",
      "\u001b[0;31mRateLimitError\u001b[0m                            Traceback (most recent call last)",
      "\u001b[0;32m<ipython-input-55-59a5df2b9a94>\u001b[0m in \u001b[0;36m<cell line: 23>\u001b[0;34m()\u001b[0m\n\u001b[1;32m     21\u001b[0m )\n\u001b[1;32m     22\u001b[0m \u001b[0;34m\u001b[0m\u001b[0m\n\u001b[0;32m---> 23\u001b[0;31m \u001b[0mfinal_rag_chain\u001b[0m\u001b[0;34m.\u001b[0m\u001b[0minvoke\u001b[0m\u001b[0;34m(\u001b[0m\u001b[0;34m{\u001b[0m\u001b[0;34m\"question\"\u001b[0m\u001b[0;34m:\u001b[0m\u001b[0mquestion\u001b[0m\u001b[0;34m}\u001b[0m\u001b[0;34m)\u001b[0m\u001b[0;34m\u001b[0m\u001b[0;34m\u001b[0m\u001b[0m\n\u001b[0m",
      "\u001b[0;32m/usr/local/lib/python3.10/dist-packages/langchain_core/runnables/base.py\u001b[0m in \u001b[0;36minvoke\u001b[0;34m(self, input, config, **kwargs)\u001b[0m\n\u001b[1;32m   3022\u001b[0m                     \u001b[0minput\u001b[0m \u001b[0;34m=\u001b[0m \u001b[0mcontext\u001b[0m\u001b[0;34m.\u001b[0m\u001b[0mrun\u001b[0m\u001b[0;34m(\u001b[0m\u001b[0mstep\u001b[0m\u001b[0;34m.\u001b[0m\u001b[0minvoke\u001b[0m\u001b[0;34m,\u001b[0m \u001b[0minput\u001b[0m\u001b[0;34m,\u001b[0m \u001b[0mconfig\u001b[0m\u001b[0;34m,\u001b[0m \u001b[0;34m**\u001b[0m\u001b[0mkwargs\u001b[0m\u001b[0;34m)\u001b[0m\u001b[0;34m\u001b[0m\u001b[0;34m\u001b[0m\u001b[0m\n\u001b[1;32m   3023\u001b[0m                 \u001b[0;32melse\u001b[0m\u001b[0;34m:\u001b[0m\u001b[0;34m\u001b[0m\u001b[0;34m\u001b[0m\u001b[0m\n\u001b[0;32m-> 3024\u001b[0;31m                     \u001b[0minput\u001b[0m \u001b[0;34m=\u001b[0m \u001b[0mcontext\u001b[0m\u001b[0;34m.\u001b[0m\u001b[0mrun\u001b[0m\u001b[0;34m(\u001b[0m\u001b[0mstep\u001b[0m\u001b[0;34m.\u001b[0m\u001b[0minvoke\u001b[0m\u001b[0;34m,\u001b[0m \u001b[0minput\u001b[0m\u001b[0;34m,\u001b[0m \u001b[0mconfig\u001b[0m\u001b[0;34m)\u001b[0m\u001b[0;34m\u001b[0m\u001b[0;34m\u001b[0m\u001b[0m\n\u001b[0m\u001b[1;32m   3025\u001b[0m         \u001b[0;31m# finish the root run\u001b[0m\u001b[0;34m\u001b[0m\u001b[0;34m\u001b[0m\u001b[0m\n\u001b[1;32m   3026\u001b[0m         \u001b[0;32mexcept\u001b[0m \u001b[0mBaseException\u001b[0m \u001b[0;32mas\u001b[0m \u001b[0me\u001b[0m\u001b[0;34m:\u001b[0m\u001b[0;34m\u001b[0m\u001b[0;34m\u001b[0m\u001b[0m\n",
      "\u001b[0;32m/usr/local/lib/python3.10/dist-packages/langchain_core/language_models/chat_models.py\u001b[0m in \u001b[0;36minvoke\u001b[0;34m(self, input, config, stop, **kwargs)\u001b[0m\n\u001b[1;32m    284\u001b[0m         return cast(\n\u001b[1;32m    285\u001b[0m             \u001b[0mChatGeneration\u001b[0m\u001b[0;34m,\u001b[0m\u001b[0;34m\u001b[0m\u001b[0;34m\u001b[0m\u001b[0m\n\u001b[0;32m--> 286\u001b[0;31m             self.generate_prompt(\n\u001b[0m\u001b[1;32m    287\u001b[0m                 \u001b[0;34m[\u001b[0m\u001b[0mself\u001b[0m\u001b[0;34m.\u001b[0m\u001b[0m_convert_input\u001b[0m\u001b[0;34m(\u001b[0m\u001b[0minput\u001b[0m\u001b[0;34m)\u001b[0m\u001b[0;34m]\u001b[0m\u001b[0;34m,\u001b[0m\u001b[0;34m\u001b[0m\u001b[0;34m\u001b[0m\u001b[0m\n\u001b[1;32m    288\u001b[0m                 \u001b[0mstop\u001b[0m\u001b[0;34m=\u001b[0m\u001b[0mstop\u001b[0m\u001b[0;34m,\u001b[0m\u001b[0;34m\u001b[0m\u001b[0;34m\u001b[0m\u001b[0m\n",
      "\u001b[0;32m/usr/local/lib/python3.10/dist-packages/langchain_core/language_models/chat_models.py\u001b[0m in \u001b[0;36mgenerate_prompt\u001b[0;34m(self, prompts, stop, callbacks, **kwargs)\u001b[0m\n\u001b[1;32m    784\u001b[0m     ) -> LLMResult:\n\u001b[1;32m    785\u001b[0m         \u001b[0mprompt_messages\u001b[0m \u001b[0;34m=\u001b[0m \u001b[0;34m[\u001b[0m\u001b[0mp\u001b[0m\u001b[0;34m.\u001b[0m\u001b[0mto_messages\u001b[0m\u001b[0;34m(\u001b[0m\u001b[0;34m)\u001b[0m \u001b[0;32mfor\u001b[0m \u001b[0mp\u001b[0m \u001b[0;32min\u001b[0m \u001b[0mprompts\u001b[0m\u001b[0;34m]\u001b[0m\u001b[0;34m\u001b[0m\u001b[0;34m\u001b[0m\u001b[0m\n\u001b[0;32m--> 786\u001b[0;31m         \u001b[0;32mreturn\u001b[0m \u001b[0mself\u001b[0m\u001b[0;34m.\u001b[0m\u001b[0mgenerate\u001b[0m\u001b[0;34m(\u001b[0m\u001b[0mprompt_messages\u001b[0m\u001b[0;34m,\u001b[0m \u001b[0mstop\u001b[0m\u001b[0;34m=\u001b[0m\u001b[0mstop\u001b[0m\u001b[0;34m,\u001b[0m \u001b[0mcallbacks\u001b[0m\u001b[0;34m=\u001b[0m\u001b[0mcallbacks\u001b[0m\u001b[0;34m,\u001b[0m \u001b[0;34m**\u001b[0m\u001b[0mkwargs\u001b[0m\u001b[0;34m)\u001b[0m\u001b[0;34m\u001b[0m\u001b[0;34m\u001b[0m\u001b[0m\n\u001b[0m\u001b[1;32m    787\u001b[0m \u001b[0;34m\u001b[0m\u001b[0m\n\u001b[1;32m    788\u001b[0m     async def agenerate_prompt(\n",
      "\u001b[0;32m/usr/local/lib/python3.10/dist-packages/langchain_core/language_models/chat_models.py\u001b[0m in \u001b[0;36mgenerate\u001b[0;34m(self, messages, stop, callbacks, tags, metadata, run_name, run_id, **kwargs)\u001b[0m\n\u001b[1;32m    641\u001b[0m                 \u001b[0;32mif\u001b[0m \u001b[0mrun_managers\u001b[0m\u001b[0;34m:\u001b[0m\u001b[0;34m\u001b[0m\u001b[0;34m\u001b[0m\u001b[0m\n\u001b[1;32m    642\u001b[0m                     \u001b[0mrun_managers\u001b[0m\u001b[0;34m[\u001b[0m\u001b[0mi\u001b[0m\u001b[0;34m]\u001b[0m\u001b[0;34m.\u001b[0m\u001b[0mon_llm_error\u001b[0m\u001b[0;34m(\u001b[0m\u001b[0me\u001b[0m\u001b[0;34m,\u001b[0m \u001b[0mresponse\u001b[0m\u001b[0;34m=\u001b[0m\u001b[0mLLMResult\u001b[0m\u001b[0;34m(\u001b[0m\u001b[0mgenerations\u001b[0m\u001b[0;34m=\u001b[0m\u001b[0;34m[\u001b[0m\u001b[0;34m]\u001b[0m\u001b[0;34m)\u001b[0m\u001b[0;34m)\u001b[0m\u001b[0;34m\u001b[0m\u001b[0;34m\u001b[0m\u001b[0m\n\u001b[0;32m--> 643\u001b[0;31m                 \u001b[0;32mraise\u001b[0m \u001b[0me\u001b[0m\u001b[0;34m\u001b[0m\u001b[0;34m\u001b[0m\u001b[0m\n\u001b[0m\u001b[1;32m    644\u001b[0m         flattened_outputs = [\n\u001b[1;32m    645\u001b[0m             \u001b[0mLLMResult\u001b[0m\u001b[0;34m(\u001b[0m\u001b[0mgenerations\u001b[0m\u001b[0;34m=\u001b[0m\u001b[0;34m[\u001b[0m\u001b[0mres\u001b[0m\u001b[0;34m.\u001b[0m\u001b[0mgenerations\u001b[0m\u001b[0;34m]\u001b[0m\u001b[0;34m,\u001b[0m \u001b[0mllm_output\u001b[0m\u001b[0;34m=\u001b[0m\u001b[0mres\u001b[0m\u001b[0;34m.\u001b[0m\u001b[0mllm_output\u001b[0m\u001b[0;34m)\u001b[0m  \u001b[0;31m# type: ignore[list-item]\u001b[0m\u001b[0;34m\u001b[0m\u001b[0;34m\u001b[0m\u001b[0m\n",
      "\u001b[0;32m/usr/local/lib/python3.10/dist-packages/langchain_core/language_models/chat_models.py\u001b[0m in \u001b[0;36mgenerate\u001b[0;34m(self, messages, stop, callbacks, tags, metadata, run_name, run_id, **kwargs)\u001b[0m\n\u001b[1;32m    631\u001b[0m             \u001b[0;32mtry\u001b[0m\u001b[0;34m:\u001b[0m\u001b[0;34m\u001b[0m\u001b[0;34m\u001b[0m\u001b[0m\n\u001b[1;32m    632\u001b[0m                 results.append(\n\u001b[0;32m--> 633\u001b[0;31m                     self._generate_with_cache(\n\u001b[0m\u001b[1;32m    634\u001b[0m                         \u001b[0mm\u001b[0m\u001b[0;34m,\u001b[0m\u001b[0;34m\u001b[0m\u001b[0;34m\u001b[0m\u001b[0m\n\u001b[1;32m    635\u001b[0m                         \u001b[0mstop\u001b[0m\u001b[0;34m=\u001b[0m\u001b[0mstop\u001b[0m\u001b[0;34m,\u001b[0m\u001b[0;34m\u001b[0m\u001b[0;34m\u001b[0m\u001b[0m\n",
      "\u001b[0;32m/usr/local/lib/python3.10/dist-packages/langchain_core/language_models/chat_models.py\u001b[0m in \u001b[0;36m_generate_with_cache\u001b[0;34m(self, messages, stop, run_manager, **kwargs)\u001b[0m\n\u001b[1;32m    849\u001b[0m         \u001b[0;32melse\u001b[0m\u001b[0;34m:\u001b[0m\u001b[0;34m\u001b[0m\u001b[0;34m\u001b[0m\u001b[0m\n\u001b[1;32m    850\u001b[0m             \u001b[0;32mif\u001b[0m \u001b[0minspect\u001b[0m\u001b[0;34m.\u001b[0m\u001b[0msignature\u001b[0m\u001b[0;34m(\u001b[0m\u001b[0mself\u001b[0m\u001b[0;34m.\u001b[0m\u001b[0m_generate\u001b[0m\u001b[0;34m)\u001b[0m\u001b[0;34m.\u001b[0m\u001b[0mparameters\u001b[0m\u001b[0;34m.\u001b[0m\u001b[0mget\u001b[0m\u001b[0;34m(\u001b[0m\u001b[0;34m\"run_manager\"\u001b[0m\u001b[0;34m)\u001b[0m\u001b[0;34m:\u001b[0m\u001b[0;34m\u001b[0m\u001b[0;34m\u001b[0m\u001b[0m\n\u001b[0;32m--> 851\u001b[0;31m                 result = self._generate(\n\u001b[0m\u001b[1;32m    852\u001b[0m                     \u001b[0mmessages\u001b[0m\u001b[0;34m,\u001b[0m \u001b[0mstop\u001b[0m\u001b[0;34m=\u001b[0m\u001b[0mstop\u001b[0m\u001b[0;34m,\u001b[0m \u001b[0mrun_manager\u001b[0m\u001b[0;34m=\u001b[0m\u001b[0mrun_manager\u001b[0m\u001b[0;34m,\u001b[0m \u001b[0;34m**\u001b[0m\u001b[0mkwargs\u001b[0m\u001b[0;34m\u001b[0m\u001b[0;34m\u001b[0m\u001b[0m\n\u001b[1;32m    853\u001b[0m                 )\n",
      "\u001b[0;32m/usr/local/lib/python3.10/dist-packages/langchain_openai/chat_models/base.py\u001b[0m in \u001b[0;36m_generate\u001b[0;34m(self, messages, stop, run_manager, **kwargs)\u001b[0m\n\u001b[1;32m    715\u001b[0m             \u001b[0mgeneration_info\u001b[0m \u001b[0;34m=\u001b[0m \u001b[0;34m{\u001b[0m\u001b[0;34m\"headers\"\u001b[0m\u001b[0;34m:\u001b[0m \u001b[0mdict\u001b[0m\u001b[0;34m(\u001b[0m\u001b[0mraw_response\u001b[0m\u001b[0;34m.\u001b[0m\u001b[0mheaders\u001b[0m\u001b[0;34m)\u001b[0m\u001b[0;34m}\u001b[0m\u001b[0;34m\u001b[0m\u001b[0;34m\u001b[0m\u001b[0m\n\u001b[1;32m    716\u001b[0m         \u001b[0;32melse\u001b[0m\u001b[0;34m:\u001b[0m\u001b[0;34m\u001b[0m\u001b[0;34m\u001b[0m\u001b[0m\n\u001b[0;32m--> 717\u001b[0;31m             \u001b[0mresponse\u001b[0m \u001b[0;34m=\u001b[0m \u001b[0mself\u001b[0m\u001b[0;34m.\u001b[0m\u001b[0mclient\u001b[0m\u001b[0;34m.\u001b[0m\u001b[0mcreate\u001b[0m\u001b[0;34m(\u001b[0m\u001b[0;34m**\u001b[0m\u001b[0mpayload\u001b[0m\u001b[0;34m)\u001b[0m\u001b[0;34m\u001b[0m\u001b[0;34m\u001b[0m\u001b[0m\n\u001b[0m\u001b[1;32m    718\u001b[0m         \u001b[0;32mreturn\u001b[0m \u001b[0mself\u001b[0m\u001b[0;34m.\u001b[0m\u001b[0m_create_chat_result\u001b[0m\u001b[0;34m(\u001b[0m\u001b[0mresponse\u001b[0m\u001b[0;34m,\u001b[0m \u001b[0mgeneration_info\u001b[0m\u001b[0;34m)\u001b[0m\u001b[0;34m\u001b[0m\u001b[0;34m\u001b[0m\u001b[0m\n\u001b[1;32m    719\u001b[0m \u001b[0;34m\u001b[0m\u001b[0m\n",
      "\u001b[0;32m/usr/local/lib/python3.10/dist-packages/openai/_utils/_utils.py\u001b[0m in \u001b[0;36mwrapper\u001b[0;34m(*args, **kwargs)\u001b[0m\n\u001b[1;32m    273\u001b[0m                         \u001b[0mmsg\u001b[0m \u001b[0;34m=\u001b[0m \u001b[0;34mf\"Missing required argument: {quote(missing[0])}\"\u001b[0m\u001b[0;34m\u001b[0m\u001b[0;34m\u001b[0m\u001b[0m\n\u001b[1;32m    274\u001b[0m                 \u001b[0;32mraise\u001b[0m \u001b[0mTypeError\u001b[0m\u001b[0;34m(\u001b[0m\u001b[0mmsg\u001b[0m\u001b[0;34m)\u001b[0m\u001b[0;34m\u001b[0m\u001b[0;34m\u001b[0m\u001b[0m\n\u001b[0;32m--> 275\u001b[0;31m             \u001b[0;32mreturn\u001b[0m \u001b[0mfunc\u001b[0m\u001b[0;34m(\u001b[0m\u001b[0;34m*\u001b[0m\u001b[0margs\u001b[0m\u001b[0;34m,\u001b[0m \u001b[0;34m**\u001b[0m\u001b[0mkwargs\u001b[0m\u001b[0;34m)\u001b[0m\u001b[0;34m\u001b[0m\u001b[0;34m\u001b[0m\u001b[0m\n\u001b[0m\u001b[1;32m    276\u001b[0m \u001b[0;34m\u001b[0m\u001b[0m\n\u001b[1;32m    277\u001b[0m         \u001b[0;32mreturn\u001b[0m \u001b[0mwrapper\u001b[0m  \u001b[0;31m# type: ignore\u001b[0m\u001b[0;34m\u001b[0m\u001b[0;34m\u001b[0m\u001b[0m\n",
      "\u001b[0;32m/usr/local/lib/python3.10/dist-packages/openai/resources/chat/completions.py\u001b[0m in \u001b[0;36mcreate\u001b[0;34m(self, messages, model, audio, frequency_penalty, function_call, functions, logit_bias, logprobs, max_completion_tokens, max_tokens, metadata, modalities, n, parallel_tool_calls, prediction, presence_penalty, reasoning_effort, response_format, seed, service_tier, stop, store, stream, stream_options, temperature, tool_choice, tools, top_logprobs, top_p, user, extra_headers, extra_query, extra_body, timeout)\u001b[0m\n\u001b[1;32m    857\u001b[0m     ) -> ChatCompletion | Stream[ChatCompletionChunk]:\n\u001b[1;32m    858\u001b[0m         \u001b[0mvalidate_response_format\u001b[0m\u001b[0;34m(\u001b[0m\u001b[0mresponse_format\u001b[0m\u001b[0;34m)\u001b[0m\u001b[0;34m\u001b[0m\u001b[0;34m\u001b[0m\u001b[0m\n\u001b[0;32m--> 859\u001b[0;31m         return self._post(\n\u001b[0m\u001b[1;32m    860\u001b[0m             \u001b[0;34m\"/chat/completions\"\u001b[0m\u001b[0;34m,\u001b[0m\u001b[0;34m\u001b[0m\u001b[0;34m\u001b[0m\u001b[0m\n\u001b[1;32m    861\u001b[0m             body=maybe_transform(\n",
      "\u001b[0;32m/usr/local/lib/python3.10/dist-packages/openai/_base_client.py\u001b[0m in \u001b[0;36mpost\u001b[0;34m(self, path, cast_to, body, options, files, stream, stream_cls)\u001b[0m\n\u001b[1;32m   1278\u001b[0m             \u001b[0mmethod\u001b[0m\u001b[0;34m=\u001b[0m\u001b[0;34m\"post\"\u001b[0m\u001b[0;34m,\u001b[0m \u001b[0murl\u001b[0m\u001b[0;34m=\u001b[0m\u001b[0mpath\u001b[0m\u001b[0;34m,\u001b[0m \u001b[0mjson_data\u001b[0m\u001b[0;34m=\u001b[0m\u001b[0mbody\u001b[0m\u001b[0;34m,\u001b[0m \u001b[0mfiles\u001b[0m\u001b[0;34m=\u001b[0m\u001b[0mto_httpx_files\u001b[0m\u001b[0;34m(\u001b[0m\u001b[0mfiles\u001b[0m\u001b[0;34m)\u001b[0m\u001b[0;34m,\u001b[0m \u001b[0;34m**\u001b[0m\u001b[0moptions\u001b[0m\u001b[0;34m\u001b[0m\u001b[0;34m\u001b[0m\u001b[0m\n\u001b[1;32m   1279\u001b[0m         )\n\u001b[0;32m-> 1280\u001b[0;31m         \u001b[0;32mreturn\u001b[0m \u001b[0mcast\u001b[0m\u001b[0;34m(\u001b[0m\u001b[0mResponseT\u001b[0m\u001b[0;34m,\u001b[0m \u001b[0mself\u001b[0m\u001b[0;34m.\u001b[0m\u001b[0mrequest\u001b[0m\u001b[0;34m(\u001b[0m\u001b[0mcast_to\u001b[0m\u001b[0;34m,\u001b[0m \u001b[0mopts\u001b[0m\u001b[0;34m,\u001b[0m \u001b[0mstream\u001b[0m\u001b[0;34m=\u001b[0m\u001b[0mstream\u001b[0m\u001b[0;34m,\u001b[0m \u001b[0mstream_cls\u001b[0m\u001b[0;34m=\u001b[0m\u001b[0mstream_cls\u001b[0m\u001b[0;34m)\u001b[0m\u001b[0;34m)\u001b[0m\u001b[0;34m\u001b[0m\u001b[0;34m\u001b[0m\u001b[0m\n\u001b[0m\u001b[1;32m   1281\u001b[0m \u001b[0;34m\u001b[0m\u001b[0m\n\u001b[1;32m   1282\u001b[0m     def patch(\n",
      "\u001b[0;32m/usr/local/lib/python3.10/dist-packages/openai/_base_client.py\u001b[0m in \u001b[0;36mrequest\u001b[0;34m(self, cast_to, options, remaining_retries, stream, stream_cls)\u001b[0m\n\u001b[1;32m    955\u001b[0m             \u001b[0mretries_taken\u001b[0m \u001b[0;34m=\u001b[0m \u001b[0;36m0\u001b[0m\u001b[0;34m\u001b[0m\u001b[0;34m\u001b[0m\u001b[0m\n\u001b[1;32m    956\u001b[0m \u001b[0;34m\u001b[0m\u001b[0m\n\u001b[0;32m--> 957\u001b[0;31m         return self._request(\n\u001b[0m\u001b[1;32m    958\u001b[0m             \u001b[0mcast_to\u001b[0m\u001b[0;34m=\u001b[0m\u001b[0mcast_to\u001b[0m\u001b[0;34m,\u001b[0m\u001b[0;34m\u001b[0m\u001b[0;34m\u001b[0m\u001b[0m\n\u001b[1;32m    959\u001b[0m             \u001b[0moptions\u001b[0m\u001b[0;34m=\u001b[0m\u001b[0moptions\u001b[0m\u001b[0;34m,\u001b[0m\u001b[0;34m\u001b[0m\u001b[0;34m\u001b[0m\u001b[0m\n",
      "\u001b[0;32m/usr/local/lib/python3.10/dist-packages/openai/_base_client.py\u001b[0m in \u001b[0;36m_request\u001b[0;34m(self, cast_to, options, retries_taken, stream, stream_cls)\u001b[0m\n\u001b[1;32m   1044\u001b[0m             \u001b[0;32mif\u001b[0m \u001b[0mremaining_retries\u001b[0m \u001b[0;34m>\u001b[0m \u001b[0;36m0\u001b[0m \u001b[0;32mand\u001b[0m \u001b[0mself\u001b[0m\u001b[0;34m.\u001b[0m\u001b[0m_should_retry\u001b[0m\u001b[0;34m(\u001b[0m\u001b[0merr\u001b[0m\u001b[0;34m.\u001b[0m\u001b[0mresponse\u001b[0m\u001b[0;34m)\u001b[0m\u001b[0;34m:\u001b[0m\u001b[0;34m\u001b[0m\u001b[0;34m\u001b[0m\u001b[0m\n\u001b[1;32m   1045\u001b[0m                 \u001b[0merr\u001b[0m\u001b[0;34m.\u001b[0m\u001b[0mresponse\u001b[0m\u001b[0;34m.\u001b[0m\u001b[0mclose\u001b[0m\u001b[0;34m(\u001b[0m\u001b[0;34m)\u001b[0m\u001b[0;34m\u001b[0m\u001b[0;34m\u001b[0m\u001b[0m\n\u001b[0;32m-> 1046\u001b[0;31m                 return self._retry_request(\n\u001b[0m\u001b[1;32m   1047\u001b[0m                     \u001b[0minput_options\u001b[0m\u001b[0;34m,\u001b[0m\u001b[0;34m\u001b[0m\u001b[0;34m\u001b[0m\u001b[0m\n\u001b[1;32m   1048\u001b[0m                     \u001b[0mcast_to\u001b[0m\u001b[0;34m,\u001b[0m\u001b[0;34m\u001b[0m\u001b[0;34m\u001b[0m\u001b[0m\n",
      "\u001b[0;32m/usr/local/lib/python3.10/dist-packages/openai/_base_client.py\u001b[0m in \u001b[0;36m_retry_request\u001b[0;34m(self, options, cast_to, retries_taken, response_headers, stream, stream_cls)\u001b[0m\n\u001b[1;32m   1093\u001b[0m         \u001b[0mtime\u001b[0m\u001b[0;34m.\u001b[0m\u001b[0msleep\u001b[0m\u001b[0;34m(\u001b[0m\u001b[0mtimeout\u001b[0m\u001b[0;34m)\u001b[0m\u001b[0;34m\u001b[0m\u001b[0;34m\u001b[0m\u001b[0m\n\u001b[1;32m   1094\u001b[0m \u001b[0;34m\u001b[0m\u001b[0m\n\u001b[0;32m-> 1095\u001b[0;31m         return self._request(\n\u001b[0m\u001b[1;32m   1096\u001b[0m             \u001b[0moptions\u001b[0m\u001b[0;34m=\u001b[0m\u001b[0moptions\u001b[0m\u001b[0;34m,\u001b[0m\u001b[0;34m\u001b[0m\u001b[0;34m\u001b[0m\u001b[0m\n\u001b[1;32m   1097\u001b[0m             \u001b[0mcast_to\u001b[0m\u001b[0;34m=\u001b[0m\u001b[0mcast_to\u001b[0m\u001b[0;34m,\u001b[0m\u001b[0;34m\u001b[0m\u001b[0;34m\u001b[0m\u001b[0m\n",
      "\u001b[0;32m/usr/local/lib/python3.10/dist-packages/openai/_base_client.py\u001b[0m in \u001b[0;36m_request\u001b[0;34m(self, cast_to, options, retries_taken, stream, stream_cls)\u001b[0m\n\u001b[1;32m   1044\u001b[0m             \u001b[0;32mif\u001b[0m \u001b[0mremaining_retries\u001b[0m \u001b[0;34m>\u001b[0m \u001b[0;36m0\u001b[0m \u001b[0;32mand\u001b[0m \u001b[0mself\u001b[0m\u001b[0;34m.\u001b[0m\u001b[0m_should_retry\u001b[0m\u001b[0;34m(\u001b[0m\u001b[0merr\u001b[0m\u001b[0;34m.\u001b[0m\u001b[0mresponse\u001b[0m\u001b[0;34m)\u001b[0m\u001b[0;34m:\u001b[0m\u001b[0;34m\u001b[0m\u001b[0;34m\u001b[0m\u001b[0m\n\u001b[1;32m   1045\u001b[0m                 \u001b[0merr\u001b[0m\u001b[0;34m.\u001b[0m\u001b[0mresponse\u001b[0m\u001b[0;34m.\u001b[0m\u001b[0mclose\u001b[0m\u001b[0;34m(\u001b[0m\u001b[0;34m)\u001b[0m\u001b[0;34m\u001b[0m\u001b[0;34m\u001b[0m\u001b[0m\n\u001b[0;32m-> 1046\u001b[0;31m                 return self._retry_request(\n\u001b[0m\u001b[1;32m   1047\u001b[0m                     \u001b[0minput_options\u001b[0m\u001b[0;34m,\u001b[0m\u001b[0;34m\u001b[0m\u001b[0;34m\u001b[0m\u001b[0m\n\u001b[1;32m   1048\u001b[0m                     \u001b[0mcast_to\u001b[0m\u001b[0;34m,\u001b[0m\u001b[0;34m\u001b[0m\u001b[0;34m\u001b[0m\u001b[0m\n",
      "\u001b[0;32m/usr/local/lib/python3.10/dist-packages/openai/_base_client.py\u001b[0m in \u001b[0;36m_retry_request\u001b[0;34m(self, options, cast_to, retries_taken, response_headers, stream, stream_cls)\u001b[0m\n\u001b[1;32m   1093\u001b[0m         \u001b[0mtime\u001b[0m\u001b[0;34m.\u001b[0m\u001b[0msleep\u001b[0m\u001b[0;34m(\u001b[0m\u001b[0mtimeout\u001b[0m\u001b[0;34m)\u001b[0m\u001b[0;34m\u001b[0m\u001b[0;34m\u001b[0m\u001b[0m\n\u001b[1;32m   1094\u001b[0m \u001b[0;34m\u001b[0m\u001b[0m\n\u001b[0;32m-> 1095\u001b[0;31m         return self._request(\n\u001b[0m\u001b[1;32m   1096\u001b[0m             \u001b[0moptions\u001b[0m\u001b[0;34m=\u001b[0m\u001b[0moptions\u001b[0m\u001b[0;34m,\u001b[0m\u001b[0;34m\u001b[0m\u001b[0;34m\u001b[0m\u001b[0m\n\u001b[1;32m   1097\u001b[0m             \u001b[0mcast_to\u001b[0m\u001b[0;34m=\u001b[0m\u001b[0mcast_to\u001b[0m\u001b[0;34m,\u001b[0m\u001b[0;34m\u001b[0m\u001b[0;34m\u001b[0m\u001b[0m\n",
      "\u001b[0;32m/usr/local/lib/python3.10/dist-packages/openai/_base_client.py\u001b[0m in \u001b[0;36m_request\u001b[0;34m(self, cast_to, options, retries_taken, stream, stream_cls)\u001b[0m\n\u001b[1;32m   1059\u001b[0m \u001b[0;34m\u001b[0m\u001b[0m\n\u001b[1;32m   1060\u001b[0m             \u001b[0mlog\u001b[0m\u001b[0;34m.\u001b[0m\u001b[0mdebug\u001b[0m\u001b[0;34m(\u001b[0m\u001b[0;34m\"Re-raising status error\"\u001b[0m\u001b[0;34m)\u001b[0m\u001b[0;34m\u001b[0m\u001b[0;34m\u001b[0m\u001b[0m\n\u001b[0;32m-> 1061\u001b[0;31m             \u001b[0;32mraise\u001b[0m \u001b[0mself\u001b[0m\u001b[0;34m.\u001b[0m\u001b[0m_make_status_error_from_response\u001b[0m\u001b[0;34m(\u001b[0m\u001b[0merr\u001b[0m\u001b[0;34m.\u001b[0m\u001b[0mresponse\u001b[0m\u001b[0;34m)\u001b[0m \u001b[0;32mfrom\u001b[0m \u001b[0;32mNone\u001b[0m\u001b[0;34m\u001b[0m\u001b[0;34m\u001b[0m\u001b[0m\n\u001b[0m\u001b[1;32m   1062\u001b[0m \u001b[0;34m\u001b[0m\u001b[0m\n\u001b[1;32m   1063\u001b[0m         return self._process_response(\n",
      "\u001b[0;31mRateLimitError\u001b[0m: Error code: 429 - {'error': {'message': 'Rate limit reached for gpt-4o-mini in organization org-NH30TT9NqHCsz62f6iFkxbuj on tokens per min (TPM): Limit 100000, Used 78223, Requested 38956. Please try again in 123h41m19.68s. Visit https://platform.openai.com/account/rate-limits to learn more. You can increase your rate limit by adding a payment method to your account at https://platform.openai.com/account/billing.', 'type': 'tokens', 'param': None, 'code': 'rate_limit_exceeded'}}"
     ]
    }
   ],
   "source": [
    "from operator import itemgetter\n",
    "from langchain_openai import ChatOpenAI\n",
    "from langchain_core.runnables import RunnablePassthrough\n",
    "\n",
    "# RAG\n",
    "template = \"\"\"Answer the following question based on this context:\n",
    "\n",
    "{context}\n",
    "\n",
    "Question: {question}\n",
    "\"\"\"\n",
    "\n",
    "prompt = ChatPromptTemplate.from_template(template)\n",
    "\n",
    "final_rag_chain = (\n",
    "    {\"context\": retrieval_chain, \n",
    "     \"question\": itemgetter(\"question\")} \n",
    "    | prompt\n",
    "    | llm\n",
    "    | StrOutputParser()\n",
    ")\n",
    "\n",
    "final_rag_chain.invoke({\"question\":question})"
   ]
  },
  {
   "cell_type": "markdown",
   "metadata": {},
   "source": [
    "# 4. Fusion"
   ]
  },
  {
   "cell_type": "code",
   "execution_count": 18,
   "metadata": {
    "execution": {
     "iopub.execute_input": "2024-12-25T15:22:06.879465Z",
     "iopub.status.busy": "2024-12-25T15:22:06.879132Z",
     "iopub.status.idle": "2024-12-25T15:22:06.884207Z",
     "shell.execute_reply": "2024-12-25T15:22:06.883083Z",
     "shell.execute_reply.started": "2024-12-25T15:22:06.879439Z"
    }
   },
   "outputs": [],
   "source": [
    "from langchain.prompts import ChatPromptTemplate\n",
    "\n",
    "# RAG-Fusion: Related\n",
    "template = \"\"\"You are a helpful assistant that generates multiple search queries based on a single input query. \\n\n",
    "Generate multiple search queries related to: {question} \\n\n",
    "Output (4 queries):\"\"\"\n",
    "\n",
    "prompt_rag_fusion = ChatPromptTemplate.from_template(template)"
   ]
  },
  {
   "cell_type": "code",
   "execution_count": 19,
   "metadata": {
    "execution": {
     "iopub.execute_input": "2024-12-25T15:22:08.777756Z",
     "iopub.status.busy": "2024-12-25T15:22:08.777299Z",
     "iopub.status.idle": "2024-12-25T15:22:08.783040Z",
     "shell.execute_reply": "2024-12-25T15:22:08.781859Z",
     "shell.execute_reply.started": "2024-12-25T15:22:08.777630Z"
    }
   },
   "outputs": [],
   "source": [
    "from langchain_core.output_parsers import StrOutputParser\n",
    "from langchain_openai import ChatOpenAI\n",
    "\n",
    "generate_queries = (\n",
    "    prompt_rag_fusion \n",
    "    | llm\n",
    "    | StrOutputParser() \n",
    "    | (lambda x: x.split(\"\\n\"))\n",
    ")"
   ]
  },
  {
   "cell_type": "code",
   "execution_count": 20,
   "metadata": {
    "execution": {
     "iopub.execute_input": "2024-12-25T15:22:19.362120Z",
     "iopub.status.busy": "2024-12-25T15:22:19.361769Z",
     "iopub.status.idle": "2024-12-25T15:22:20.587619Z",
     "shell.execute_reply": "2024-12-25T15:22:20.586509Z",
     "shell.execute_reply.started": "2024-12-25T15:22:19.362090Z"
    }
   },
   "outputs": [
    {
     "data": {
      "text/plain": [
       "[(Document(metadata={'source': 'tweet'}, page_content='Не всем климат покажется комфортным. Тут довольно жарко, днем 30–33° C, ночью — 26–30° C при влажности 80–90 %'),\n",
       "  0.06666666666666667),\n",
       " (Document(metadata={'source': 'tweet'}, page_content='Всё просто: вакансии искать на LinkedIn. Ищут много фронт- и бэкенда. Крайне популярны Java, Go, JavaScript, бывает интересное на C++, потому что есть много вакансий в области робототехники и HFT. Тут есть R&D у довольно большого количества разных проектов: много банков и HFT, есть Grab и GoJek — сильно более развитые аналоги Убера, имеют собственные платежные системы и кучу другого функционала, Lazada — местный Амазон, Ubisoft — которые пилят Assassin’s Creed, Acronis, Autodesk, ByteDance, Tencent, Motional, Bosch и куча компаний поменьше, ну и конечно, гора стартапов. Присутствует FAANG, но активно разработкой не занимается, хотя позиции иногда проскакивают.'),\n",
       "  0.06557377049180328),\n",
       " (Document(metadata={'source': 'tweet'}, page_content='Медицина дорогая. Поэтому если у вас плохое здоровье, этот фактор нужно учитывать. Медицина хорошая, экстренная медицина — очень хорошая. Попасть на прием к GP гарантированно можно сегодня, к специалисту — обычно сегодня-завтра, в худшем случае — послезавтра. На планирование операции надо закладывать неделю и больше. А emergency — как и следует из названия — «вот прямо сейчас».'),\n",
       "  0.06451612903225806),\n",
       " (Document(metadata={'source': 'tweet'}, page_content='Машины очень дорогие из-за заградительных пошлин, и их содержание не менее дорогое. Машина уровня Короллы обойдется в 120К, её парковка в городе — ещё 3–20 долларов в час, а месячный абонемент на парковку будет около 150–200. Компенсируется тем, что ехать на машине банально некуда, общественный транспорт очень хороший, а такси дешёвое — 10–20 SGD.'),\n",
       "  0.06349206349206349)]"
      ]
     },
     "execution_count": 20,
     "metadata": {},
     "output_type": "execute_result"
    }
   ],
   "source": [
    "from langchain.load import dumps, loads\n",
    "\n",
    "def reciprocal_rank_fusion(results: list[list], k=60):\n",
    "    \"\"\" Reciprocal_rank_fusion that takes multiple lists of ranked documents \n",
    "        and an optional parameter k used in the RRF formula \"\"\"\n",
    "    \n",
    "    # Initialize a dictionary to hold fused scores for each unique document\n",
    "    fused_scores = {}\n",
    "    # Iterate through each list of ranked documents\n",
    "    for docs in results:\n",
    "        # Iterate through each document in the list, with its rank (position in the list)\n",
    "        for rank, doc in enumerate(docs):\n",
    "            # Convert the document to a string format to use as a key (assumes documents can be serialized to JSON)\n",
    "            doc_str = dumps(doc)\n",
    "            # If the document is not yet in the fused_scores dictionary, add it with an initial score of 0\n",
    "            if doc_str not in fused_scores:\n",
    "                fused_scores[doc_str] = 0\n",
    "            # Retrieve the current score of the document, if any\n",
    "            previous_score = fused_scores[doc_str]\n",
    "            # Update the score of the document using the RRF formula: 1 / (rank + k)\n",
    "            fused_scores[doc_str] += 1 / (rank + k)\n",
    "\n",
    "    # Sort the documents based on their fused scores in descending order to get the final reranked results\n",
    "    reranked_results = [\n",
    "        (loads(doc), score)\n",
    "        for doc, score in sorted(fused_scores.items(), key=lambda x: x[1], reverse=True)\n",
    "    ]\n",
    "\n",
    "    # Return the reranked results as a list of tuples, each containing the document and its fused score\n",
    "    return reranked_results\n",
    "\n",
    "retrieval_chain_rag_fusion = generate_queries | retriever.map() | reciprocal_rank_fusion\n",
    "docs = retrieval_chain_rag_fusion.invoke({\"question\": question})\n",
    "docs"
   ]
  },
  {
   "cell_type": "code",
   "execution_count": 21,
   "metadata": {
    "execution": {
     "iopub.execute_input": "2024-12-25T15:23:36.737115Z",
     "iopub.status.busy": "2024-12-25T15:23:36.736678Z",
     "iopub.status.idle": "2024-12-25T15:23:38.413610Z",
     "shell.execute_reply": "2024-12-25T15:23:38.412307Z",
     "shell.execute_reply.started": "2024-12-25T15:23:36.737080Z"
    }
   },
   "outputs": [
    {
     "data": {
      "text/plain": [
       "'Машина уровня Короллы обойдется в 120,000.'"
      ]
     },
     "execution_count": 21,
     "metadata": {},
     "output_type": "execute_result"
    }
   ],
   "source": [
    "from langchain_core.runnables import RunnablePassthrough\n",
    "\n",
    "# RAG\n",
    "template = \"\"\"Answer the following question based on this context:\n",
    "\n",
    "{context}\n",
    "\n",
    "Question: {question}\n",
    "\"\"\"\n",
    "\n",
    "prompt = ChatPromptTemplate.from_template(template)\n",
    "\n",
    "final_rag_chain = (\n",
    "    {\"context\": retrieval_chain_rag_fusion, \n",
    "     \"question\": itemgetter(\"question\")} \n",
    "    | prompt\n",
    "    | llm\n",
    "    | StrOutputParser()\n",
    ")\n",
    "\n",
    "final_rag_chain.invoke({\"question\":question})"
   ]
  },
  {
   "cell_type": "markdown",
   "metadata": {},
   "source": [
    "# 5. Decomposition"
   ]
  },
  {
   "cell_type": "code",
   "execution_count": 23,
   "metadata": {
    "execution": {
     "iopub.execute_input": "2024-12-25T15:26:26.838713Z",
     "iopub.status.busy": "2024-12-25T15:26:26.838324Z",
     "iopub.status.idle": "2024-12-25T15:26:26.843908Z",
     "shell.execute_reply": "2024-12-25T15:26:26.842712Z",
     "shell.execute_reply.started": "2024-12-25T15:26:26.838678Z"
    }
   },
   "outputs": [],
   "source": [
    "from langchain.prompts import ChatPromptTemplate\n",
    "\n",
    "# Decomposition\n",
    "template = \"\"\"You are a helpful assistant that generates multiple sub-questions related to an input question. \\n\n",
    "The goal is to break down the input into a set of sub-problems / sub-questions that can be answers in isolation. \\n\n",
    "Generate multiple search queries related to: {question} \\n\n",
    "Output (3 queries):\"\"\"\n",
    "prompt_decomposition = ChatPromptTemplate.from_template(template)"
   ]
  },
  {
   "cell_type": "code",
   "execution_count": 26,
   "metadata": {
    "execution": {
     "iopub.execute_input": "2024-12-25T15:28:13.925359Z",
     "iopub.status.busy": "2024-12-25T15:28:13.925021Z",
     "iopub.status.idle": "2024-12-25T15:28:15.055045Z",
     "shell.execute_reply": "2024-12-25T15:28:15.053727Z",
     "shell.execute_reply.started": "2024-12-25T15:28:13.925332Z"
    }
   },
   "outputs": [],
   "source": [
    "from langchain_openai import ChatOpenAI\n",
    "from langchain_core.output_parsers import StrOutputParser\n",
    "\n",
    "# Chain\n",
    "generate_queries_decomposition = (prompt_decomposition | llm | StrOutputParser() | (lambda x: x.split(\"\\n\")))\n",
    "\n",
    "question = 'Сколько стоит содержание машины в Сингапуре?'\n",
    "questions = generate_queries_decomposition.invoke({\"question\":question})"
   ]
  },
  {
   "cell_type": "code",
   "execution_count": 27,
   "metadata": {
    "execution": {
     "iopub.execute_input": "2024-12-25T15:28:16.241409Z",
     "iopub.status.busy": "2024-12-25T15:28:16.241029Z",
     "iopub.status.idle": "2024-12-25T15:28:16.247203Z",
     "shell.execute_reply": "2024-12-25T15:28:16.246172Z",
     "shell.execute_reply.started": "2024-12-25T15:28:16.241375Z"
    }
   },
   "outputs": [
    {
     "data": {
      "text/plain": [
       "['1. Каковы основные расходы на содержание автомобиля в Сингапуре?',\n",
       " '2. Какие налоги и сборы необходимо учитывать при содержании машины в Сингапуре?',\n",
       " '3. Какова средняя стоимость топлива и обслуживания автомобиля в Сингапуре?']"
      ]
     },
     "execution_count": 27,
     "metadata": {},
     "output_type": "execute_result"
    }
   ],
   "source": [
    "questions"
   ]
  },
  {
   "cell_type": "code",
   "execution_count": 28,
   "metadata": {
    "execution": {
     "iopub.execute_input": "2024-12-25T15:33:12.713607Z",
     "iopub.status.busy": "2024-12-25T15:33:12.713251Z",
     "iopub.status.idle": "2024-12-25T15:33:12.718827Z",
     "shell.execute_reply": "2024-12-25T15:33:12.717610Z",
     "shell.execute_reply.started": "2024-12-25T15:33:12.713578Z"
    }
   },
   "outputs": [],
   "source": [
    "# Prompt\n",
    "template = \"\"\"Here is the question you need to answer:\n",
    "\n",
    "\\n --- \\n {question} \\n --- \\n\n",
    "\n",
    "Here is any available background question + answer pairs:\n",
    "\n",
    "\\n --- \\n {q_a_pairs} \\n --- \\n\n",
    "\n",
    "Here is additional context relevant to the question: \n",
    "\n",
    "\\n --- \\n {context} \\n --- \\n\n",
    "\n",
    "Use the above context and any background question + answer pairs to answer the question: \\n {question}\n",
    "\"\"\"\n",
    "\n",
    "decomposition_prompt = ChatPromptTemplate.from_template(template)"
   ]
  },
  {
   "cell_type": "code",
   "execution_count": 29,
   "metadata": {
    "execution": {
     "iopub.execute_input": "2024-12-25T15:33:19.797347Z",
     "iopub.status.busy": "2024-12-25T15:33:19.797016Z",
     "iopub.status.idle": "2024-12-25T15:33:33.348354Z",
     "shell.execute_reply": "2024-12-25T15:33:33.347182Z",
     "shell.execute_reply.started": "2024-12-25T15:33:19.797319Z"
    }
   },
   "outputs": [],
   "source": [
    "from operator import itemgetter\n",
    "from langchain_core.output_parsers import StrOutputParser\n",
    "\n",
    "def format_qa_pair(question, answer):\n",
    "    \"\"\"Format Q and A pair\"\"\"\n",
    "    \n",
    "    formatted_string = \"\"\n",
    "    formatted_string += f\"Question: {question}\\nAnswer: {answer}\\n\\n\"\n",
    "    return formatted_string.strip()\n",
    "\n",
    "\n",
    "q_a_pairs = \"\"\n",
    "for q in questions:\n",
    "    \n",
    "    rag_chain = (\n",
    "    {\"context\": itemgetter(\"question\") | retriever, \n",
    "     \"question\": itemgetter(\"question\"),\n",
    "     \"q_a_pairs\": itemgetter(\"q_a_pairs\")} \n",
    "    | decomposition_prompt\n",
    "    | llm\n",
    "    | StrOutputParser())\n",
    "\n",
    "    answer = rag_chain.invoke({\"question\":q,\"q_a_pairs\":q_a_pairs})\n",
    "    q_a_pair = format_qa_pair(q,answer)\n",
    "    q_a_pairs = q_a_pairs + \"\\n---\\n\"+  q_a_pair"
   ]
  },
  {
   "cell_type": "code",
   "execution_count": 30,
   "metadata": {
    "execution": {
     "iopub.execute_input": "2024-12-25T15:33:46.647663Z",
     "iopub.status.busy": "2024-12-25T15:33:46.647274Z",
     "iopub.status.idle": "2024-12-25T15:33:46.653578Z",
     "shell.execute_reply": "2024-12-25T15:33:46.652469Z",
     "shell.execute_reply.started": "2024-12-25T15:33:46.647620Z"
    }
   },
   "outputs": [
    {
     "data": {
      "text/plain": [
       "'Средняя стоимость топлива и обслуживания автомобиля в Сингапуре может варьироваться, но можно выделить несколько ключевых аспектов:\\n\\n1. **Стоимость топлива**: Цены на топливо в Сингапуре обычно выше, чем в большинстве других стран. На момент последней информации, стоимость бензина может составлять около 2-2.5 SGD за литр, но это может изменяться в зависимости от рыночных условий.\\n\\n2. **Обслуживание автомобиля**: Регулярное техническое обслуживание и ремонт также требуют значительных затрат. В зависимости от типа автомобиля и необходимых услуг, расходы на обслуживание могут составлять от 500 до 1,500 SGD в год. Это включает в себя такие услуги, как замена масла, проверка тормозов, замена шин и другие профилактические работы.\\n\\nТаким образом, учитывая стоимость топлива и регулярные расходы на обслуживание, содержание автомобиля в Сингапуре может быть довольно дорогим, что делает его менее привлекательным по сравнению с использованием общественного транспорта.'"
      ]
     },
     "execution_count": 30,
     "metadata": {},
     "output_type": "execute_result"
    }
   ],
   "source": [
    "answer"
   ]
  },
  {
   "cell_type": "markdown",
   "metadata": {},
   "source": [
    "# 6. Individual answer\n"
   ]
  },
  {
   "cell_type": "code",
   "execution_count": 31,
   "metadata": {
    "execution": {
     "iopub.execute_input": "2024-12-25T15:39:14.382631Z",
     "iopub.status.busy": "2024-12-25T15:39:14.382263Z",
     "iopub.status.idle": "2024-12-25T15:39:47.002685Z",
     "shell.execute_reply": "2024-12-25T15:39:47.001701Z",
     "shell.execute_reply.started": "2024-12-25T15:39:14.382603Z"
    }
   },
   "outputs": [],
   "source": [
    "# Answer each sub-question individually \n",
    "\n",
    "from langchain import hub\n",
    "from langchain_core.prompts import ChatPromptTemplate\n",
    "from langchain_core.runnables import RunnablePassthrough, RunnableLambda\n",
    "from langchain_core.output_parsers import StrOutputParser\n",
    "from langchain_openai import ChatOpenAI\n",
    "\n",
    "# RAG prompt\n",
    "prompt_rag = hub.pull(\"rlm/rag-prompt\")\n",
    "\n",
    "def retrieve_and_rag(question,prompt_rag,sub_question_generator_chain):\n",
    "    \"\"\"RAG on each sub-question\"\"\"\n",
    "    \n",
    "    # Use our decomposition / \n",
    "    sub_questions = sub_question_generator_chain.invoke({\"question\":question})\n",
    "    \n",
    "    # Initialize a list to hold RAG chain results\n",
    "    rag_results = []\n",
    "    \n",
    "    for sub_question in sub_questions:\n",
    "        \n",
    "        # Retrieve documents for each sub-question\n",
    "        retrieved_docs = retriever.get_relevant_documents(sub_question)\n",
    "        \n",
    "        # Use retrieved documents and sub-question in RAG chain\n",
    "        answer = (prompt_rag | llm | StrOutputParser()).invoke({\"context\": retrieved_docs, \n",
    "                                                                \"question\": sub_question})\n",
    "        rag_results.append(answer)\n",
    "    \n",
    "    return rag_results,sub_questions\n",
    "\n",
    "# Wrap the retrieval and RAG process in a RunnableLambda for integration into a chain\n",
    "answers, questions = retrieve_and_rag(question, prompt_rag, generate_queries_decomposition)"
   ]
  },
  {
   "cell_type": "code",
   "execution_count": 32,
   "metadata": {
    "execution": {
     "iopub.execute_input": "2024-12-25T15:40:45.209878Z",
     "iopub.status.busy": "2024-12-25T15:40:45.209474Z",
     "iopub.status.idle": "2024-12-25T15:40:45.215864Z",
     "shell.execute_reply": "2024-12-25T15:40:45.214877Z",
     "shell.execute_reply.started": "2024-12-25T15:40:45.209843Z"
    }
   },
   "outputs": [
    {
     "data": {
      "text/plain": [
       "['1. Каковы основные расходы на содержание автомобиля в Сингапуре?',\n",
       " '2. Какие налоги и сборы необходимо учитывать при содержании машины в Сингапуре?',\n",
       " '3. Какова средняя стоимость топлива и обслуживания автомобиля в Сингапуре?']"
      ]
     },
     "execution_count": 32,
     "metadata": {},
     "output_type": "execute_result"
    }
   ],
   "source": [
    "questions"
   ]
  },
  {
   "cell_type": "code",
   "execution_count": 33,
   "metadata": {
    "execution": {
     "iopub.execute_input": "2024-12-25T15:40:49.817591Z",
     "iopub.status.busy": "2024-12-25T15:40:49.817233Z",
     "iopub.status.idle": "2024-12-25T15:40:49.824095Z",
     "shell.execute_reply": "2024-12-25T15:40:49.822839Z",
     "shell.execute_reply.started": "2024-12-25T15:40:49.817557Z"
    }
   },
   "outputs": [
    {
     "data": {
      "text/plain": [
       "['Основные расходы на содержание автомобиля в Сингапуре включают высокие цены на автомобили из-за заградительных пошлин, которые могут достигать 120 тысяч SGD для модели уровня Короллы. Дополнительно, стоимость парковки варьируется от 3 до 20 SGD в час, а месячный абонемент на парковку составляет около 150–200 SGD. Общественный транспорт в Сингапуре хорошо развит, что делает использование автомобиля менее необходимым.',\n",
       " 'При содержании машины в Сингапуре необходимо учитывать высокие заградительные пошлины на автомобили, которые могут достигать 120,000 SGD для моделей уровня Короллы. Также следует учитывать стоимость парковки, которая варьируется от 3 до 20 SGD в час, или около 150-200 SGD за месячный абонемент. Эти расходы делают содержание автомобиля в Сингапуре довольно дорогим.',\n",
       " 'Средняя стоимость автомобиля в Сингапуре, например, уровня Короллы, составляет около 120,000 SGD. Парковка в городе стоит от 3 до 20 SGD в час, а месячный абонемент на парковку — около 150-200 SGD. Общее содержание автомобиля в Сингапуре считается дорогим из-за высоких пошлин и расходов на парковку.']"
      ]
     },
     "execution_count": 33,
     "metadata": {},
     "output_type": "execute_result"
    }
   ],
   "source": [
    "answers"
   ]
  },
  {
   "cell_type": "code",
   "execution_count": 34,
   "metadata": {
    "execution": {
     "iopub.execute_input": "2024-12-25T15:41:29.993462Z",
     "iopub.status.busy": "2024-12-25T15:41:29.993132Z",
     "iopub.status.idle": "2024-12-25T15:41:31.843379Z",
     "shell.execute_reply": "2024-12-25T15:41:31.842347Z",
     "shell.execute_reply.started": "2024-12-25T15:41:29.993434Z"
    }
   },
   "outputs": [
    {
     "data": {
      "text/plain": [
       "'Содержание машины в Сингапуре обходится довольно дорого. Основные расходы включают высокие заградительные пошлины на автомобили, которые могут достигать 120,000 SGD для моделей уровня Короллы. Кроме того, стоимость парковки варьируется от 3 до 20 SGD в час, а месячный абонемент на парковку составляет около 150-200 SGD. Эти факторы делают содержание автомобиля в Сингапуре финансово обременительным, особенно учитывая, что общественный транспорт в стране хорошо развит и может быть более экономичным вариантом.'"
      ]
     },
     "execution_count": 34,
     "metadata": {},
     "output_type": "execute_result"
    }
   ],
   "source": [
    "def format_qa_pairs(questions, answers):\n",
    "    \"\"\"Format Q and A pairs\"\"\"\n",
    "    \n",
    "    formatted_string = \"\"\n",
    "    for i, (question, answer) in enumerate(zip(questions, answers), start=1):\n",
    "        formatted_string += f\"Question {i}: {question}\\nAnswer {i}: {answer}\\n\\n\"\n",
    "    return formatted_string.strip()\n",
    "\n",
    "context = format_qa_pairs(questions, answers)\n",
    "\n",
    "# Prompt\n",
    "template = \"\"\"Here is a set of Q+A pairs:\n",
    "\n",
    "{context}\n",
    "\n",
    "Use these to synthesize an answer to the question: {question}\n",
    "\"\"\"\n",
    "\n",
    "prompt = ChatPromptTemplate.from_template(template)\n",
    "\n",
    "final_rag_chain = (\n",
    "    prompt\n",
    "    | llm\n",
    "    | StrOutputParser()\n",
    ")\n",
    "\n",
    "final_rag_chain.invoke({\"context\":context,\"question\":question})"
   ]
  },
  {
   "cell_type": "markdown",
   "metadata": {},
   "source": [
    "# 7. Step Back"
   ]
  },
  {
   "cell_type": "code",
   "execution_count": 35,
   "metadata": {
    "execution": {
     "iopub.execute_input": "2024-12-25T15:49:57.239238Z",
     "iopub.status.busy": "2024-12-25T15:49:57.238821Z",
     "iopub.status.idle": "2024-12-25T15:49:57.246608Z",
     "shell.execute_reply": "2024-12-25T15:49:57.245468Z",
     "shell.execute_reply.started": "2024-12-25T15:49:57.239205Z"
    }
   },
   "outputs": [],
   "source": [
    "# Few Shot Examples\n",
    "from langchain_core.prompts import ChatPromptTemplate, FewShotChatMessagePromptTemplate\n",
    "examples = [\n",
    "    {\n",
    "        \"input\": \"Could the members of The Police perform lawful arrests?\",\n",
    "        \"output\": \"what can the members of The Police do?\",\n",
    "    },\n",
    "    {\n",
    "        \"input\": \"Elon Musk’s was born in what country?\",\n",
    "        \"output\": \"what is Elon Musk’s personal history?\",\n",
    "    },\n",
    "]\n",
    "# We now transform these to example messages\n",
    "example_prompt = ChatPromptTemplate.from_messages(\n",
    "    [\n",
    "        (\"human\", \"{input}\"),\n",
    "        (\"ai\", \"{output}\"),\n",
    "    ]\n",
    ")\n",
    "few_shot_prompt = FewShotChatMessagePromptTemplate(\n",
    "    example_prompt=example_prompt,\n",
    "    examples=examples,\n",
    ")\n",
    "prompt = ChatPromptTemplate.from_messages(\n",
    "    [\n",
    "        (\n",
    "            \"system\",\n",
    "            \"\"\"You are an expert at world knowledge. Your task is to step back and paraphrase a question to a more generic step-back question, which is easier to answer. Here are a few examples:\"\"\",\n",
    "        ),\n",
    "        # Few shot examples\n",
    "        few_shot_prompt,\n",
    "        # New question\n",
    "        (\"user\", \"{question}\"),\n",
    "    ]\n",
    ")"
   ]
  },
  {
   "cell_type": "code",
   "execution_count": 37,
   "metadata": {
    "execution": {
     "iopub.execute_input": "2024-12-25T15:51:12.045925Z",
     "iopub.status.busy": "2024-12-25T15:51:12.045503Z",
     "iopub.status.idle": "2024-12-25T15:51:12.642090Z",
     "shell.execute_reply": "2024-12-25T15:51:12.641091Z",
     "shell.execute_reply.started": "2024-12-25T15:51:12.045887Z"
    }
   },
   "outputs": [
    {
     "data": {
      "text/plain": [
       "'Каковы средние цены на парковку в крупных городах?'"
      ]
     },
     "execution_count": 37,
     "metadata": {},
     "output_type": "execute_result"
    }
   ],
   "source": [
    "generate_queries_step_back = prompt | llm | StrOutputParser()\n",
    "question = \"Сколько стоит парковка машины в Сингапуре?\"\n",
    "generate_queries_step_back.invoke({\"question\": question})"
   ]
  },
  {
   "cell_type": "code",
   "execution_count": 39,
   "metadata": {
    "execution": {
     "iopub.execute_input": "2024-12-25T15:51:31.070599Z",
     "iopub.status.busy": "2024-12-25T15:51:31.070229Z",
     "iopub.status.idle": "2024-12-25T15:51:53.701119Z",
     "shell.execute_reply": "2024-12-25T15:51:53.700037Z",
     "shell.execute_reply.started": "2024-12-25T15:51:31.070567Z"
    }
   },
   "outputs": [
    {
     "data": {
      "text/plain": [
       "'Парковка машины в Сингапуре может стоить от 3 до 20 долларов в час, в зависимости от места. Месячный абонемент на парковку обойдется примерно в 150–200 долларов.'"
      ]
     },
     "execution_count": 39,
     "metadata": {},
     "output_type": "execute_result"
    }
   ],
   "source": [
    "# Response prompt \n",
    "response_prompt_template = \"\"\"You are an expert of world knowledge. I am going to ask you a question. Your response should be comprehensive and not contradicted with the following context if they are relevant. Otherwise, ignore them if they are not relevant.\n",
    "\n",
    "# {normal_context}\n",
    "# {step_back_context}\n",
    "\n",
    "# Original Question: {question}\n",
    "# Answer:\"\"\"\n",
    "response_prompt = ChatPromptTemplate.from_template(response_prompt_template)\n",
    "\n",
    "chain = (\n",
    "    {\n",
    "        # Retrieve context using the normal question\n",
    "        \"normal_context\": RunnableLambda(lambda x: x[\"question\"]) | retriever,\n",
    "        # Retrieve context using the step-back question\n",
    "        \"step_back_context\": generate_queries_step_back | retriever,\n",
    "        # Pass on the question\n",
    "        \"question\": lambda x: x[\"question\"],\n",
    "    }\n",
    "    | response_prompt\n",
    "    | llm\n",
    "    | StrOutputParser()\n",
    ")\n",
    "\n",
    "chain.invoke({\"question\": question})"
   ]
  },
  {
   "cell_type": "markdown",
   "metadata": {},
   "source": [
    "# 9. HyDe"
   ]
  },
  {
   "cell_type": "code",
   "execution_count": 44,
   "metadata": {
    "execution": {
     "iopub.execute_input": "2024-12-25T16:03:31.762403Z",
     "iopub.status.busy": "2024-12-25T16:03:31.762056Z",
     "iopub.status.idle": "2024-12-25T16:03:39.421223Z",
     "shell.execute_reply": "2024-12-25T16:03:39.420184Z",
     "shell.execute_reply.started": "2024-12-25T16:03:31.762377Z"
    }
   },
   "outputs": [
    {
     "data": {
      "text/plain": [
       "'Образование в Сингапуре имеет различные ценовые категории в зависимости от уровня и типа учебного заведения. Например, стоимость обучения в государственных школах для местных студентов может варьироваться от 200 до 500 сингапурских долларов в год, в то время как для иностранных студентов эта сумма может увеличиваться до 5,000-10,000 сингапурских долларов. В частных школах и международных учебных заведениях цены могут значительно возрасти, достигая 20,000-40,000 сингапурских долларов в год. Высшее образование в университетах также имеет широкий диапазон цен: обучение в государственных университетах может стоить от 8,000 до 20,000 сингапурских долларов в год, тогда как частные университеты могут запрашивать от 20,000 до 50,000 сингапурских долларов. Важно учитывать, что эти суммы могут изменяться в зависимости от программы и специфики учебного заведения.'"
      ]
     },
     "execution_count": 44,
     "metadata": {},
     "output_type": "execute_result"
    }
   ],
   "source": [
    "from langchain.prompts import ChatPromptTemplate\n",
    "\n",
    "template = \"\"\"Please write a source or paper passage to answer the question\n",
    "Question: {question}\n",
    "Passage:\"\"\"\n",
    "prompt_hyde = ChatPromptTemplate.from_template(template)\n",
    "\n",
    "from langchain_core.output_parsers import StrOutputParser\n",
    "from langchain_openai import ChatOpenAI\n",
    "\n",
    "generate_docs_for_retrieval = (\n",
    "    prompt_hyde | llm | StrOutputParser() \n",
    ")\n",
    "\n",
    "question = \"Сколько стоит образование в Сингапуре?\"\n",
    "generate_docs_for_retrieval.invoke({\"question\":question})"
   ]
  },
  {
   "cell_type": "code",
   "execution_count": 45,
   "metadata": {
    "execution": {
     "iopub.execute_input": "2024-12-25T16:03:43.341247Z",
     "iopub.status.busy": "2024-12-25T16:03:43.340900Z",
     "iopub.status.idle": "2024-12-25T16:03:46.996692Z",
     "shell.execute_reply": "2024-12-25T16:03:46.995663Z",
     "shell.execute_reply.started": "2024-12-25T16:03:43.341220Z"
    }
   },
   "outputs": [
    {
     "data": {
      "text/plain": [
       "[Document(metadata={'source': 'tweet'}, page_content='Машины очень дорогие из-за заградительных пошлин, и их содержание не менее дорогое. Машина уровня Короллы обойдется в 120К, её парковка в городе — ещё 3–20 долларов в час, а месячный абонемент на парковку будет около 150–200. Компенсируется тем, что ехать на машине банально некуда, общественный транспорт очень хороший, а такси дешёвое — 10–20 SGD.'),\n",
       " Document(metadata={'source': 'tweet'}, page_content='Медицина дорогая. Поэтому если у вас плохое здоровье, этот фактор нужно учитывать. Медицина хорошая, экстренная медицина — очень хорошая. Попасть на прием к GP гарантированно можно сегодня, к специалисту — обычно сегодня-завтра, в худшем случае — послезавтра. На планирование операции надо закладывать неделю и больше. А emergency — как и следует из названия — «вот прямо сейчас».'),\n",
       " Document(metadata={'source': 'tweet'}, page_content='Образование детей — мероприятие недешёвое. Это касается тех, кто планирует задержаться в стране надолго. В Сингапуре два типа школ: государственные и частные. В государственные в первую очередь попадают дети граждан и Permanent Residents (PR), экспатам достанутся оставшиеся места. Если ребёнок не вундеркинд, чтобы попасть в государственную школу, где придётся столкнуться с огромным конкурсом на место, то остаются только частные школы. А на частные школы будет уходить много денег: они дорогие, в среднем 30,000 SGD в год. Подробнее про плюсы и минусы PR говорим ниже.'),\n",
       " Document(metadata={'source': 'tweet'}, page_content='Всё просто: вакансии искать на LinkedIn. Ищут много фронт- и бэкенда. Крайне популярны Java, Go, JavaScript, бывает интересное на C++, потому что есть много вакансий в области робототехники и HFT. Тут есть R&D у довольно большого количества разных проектов: много банков и HFT, есть Grab и GoJek — сильно более развитые аналоги Убера, имеют собственные платежные системы и кучу другого функционала, Lazada — местный Амазон, Ubisoft — которые пилят Assassin’s Creed, Acronis, Autodesk, ByteDance, Tencent, Motional, Bosch и куча компаний поменьше, ну и конечно, гора стартапов. Присутствует FAANG, но активно разработкой не занимается, хотя позиции иногда проскакивают.')]"
      ]
     },
     "execution_count": 45,
     "metadata": {},
     "output_type": "execute_result"
    }
   ],
   "source": [
    "# Retrieve\n",
    "retrieval_chain = generate_docs_for_retrieval | retriever \n",
    "retireved_docs = retrieval_chain.invoke({\"question\":question})\n",
    "retireved_docs"
   ]
  },
  {
   "cell_type": "code",
   "execution_count": 46,
   "metadata": {
    "execution": {
     "iopub.execute_input": "2024-12-25T16:03:50.029269Z",
     "iopub.status.busy": "2024-12-25T16:03:50.028939Z",
     "iopub.status.idle": "2024-12-25T16:03:51.266402Z",
     "shell.execute_reply": "2024-12-25T16:03:51.265484Z",
     "shell.execute_reply.started": "2024-12-25T16:03:50.029243Z"
    }
   },
   "outputs": [
    {
     "data": {
      "text/plain": [
       "'Образование в Сингапуре, особенно в частных школах, стоит в среднем 30,000 SGD в год. Государственные школы в первую очередь доступны для детей граждан и постоянных резидентов, и конкуренция за места в них велика.'"
      ]
     },
     "execution_count": 46,
     "metadata": {},
     "output_type": "execute_result"
    }
   ],
   "source": [
    "# RAG\n",
    "template = \"\"\"Answer the following question based on this context:\n",
    "\n",
    "{context}\n",
    "\n",
    "Question: {question}\n",
    "\"\"\"\n",
    "\n",
    "prompt = ChatPromptTemplate.from_template(template)\n",
    "\n",
    "final_rag_chain = (\n",
    "    prompt\n",
    "    | llm\n",
    "    | StrOutputParser()\n",
    ")\n",
    "\n",
    "final_rag_chain.invoke({\"context\":retireved_docs,\"question\":question})"
   ]
  },
  {
   "cell_type": "markdown",
   "metadata": {},
   "source": [
    "# 10. Logical and Semantic routing"
   ]
  },
  {
   "cell_type": "code",
   "execution_count": null,
   "metadata": {},
   "outputs": [],
   "source": []
  }
 ],
 "metadata": {
  "kaggle": {
   "accelerator": "none",
   "dataSources": [
    {
     "datasetId": 6374502,
     "sourceId": 10298781,
     "sourceType": "datasetVersion"
    }
   ],
   "dockerImageVersionId": 30822,
   "isGpuEnabled": false,
   "isInternetEnabled": true,
   "language": "python",
   "sourceType": "notebook"
  },
  "kernelspec": {
   "display_name": "Python 3 (ipykernel)",
   "language": "python",
   "name": "python3"
  },
  "language_info": {
   "codemirror_mode": {
    "name": "ipython",
    "version": 3
   },
   "file_extension": ".py",
   "mimetype": "text/x-python",
   "name": "python",
   "nbconvert_exporter": "python",
   "pygments_lexer": "ipython3",
   "version": "3.10.7"
  }
 },
 "nbformat": 4,
 "nbformat_minor": 4
}
